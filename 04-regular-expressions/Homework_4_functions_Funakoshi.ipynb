{
 "cells": [
  {
   "cell_type": "markdown",
   "metadata": {},
   "source": [
    "## homework 4.2: investigating lists and dictionaries using functions\n",
    "\n",
    "In this assignment I will ask you to pick five relatively short texts (poems, paragraphs, short essays, song lyrics, whatever interests you). The main thing is to make sure that each text is around 10 - 20 lines or sentences long. Below, I have selected five poems by Wallace Stevens. In each cell I have made a variable that contains each poem, and then I pass that poem through a function called `text_to_dict` that makes a dictionary for each poem. The dictionary contains the title of the poem, the full text as one string, and a list that contains each line of the poem. The function will also make lists of sentences instead of lines if you want to investigate a prose text (sentence by sentence) instead of a poem (line by line).\n",
    "\n",
    "There are two parts of this assignment. \n",
    "\n",
    "**Part 1**, which should be easy, is to replace the poems with texts of your own choice--and choose to split them by lines or sentences. \n",
    "\n",
    "**Part 2** is to write functions that and investigate your texts. If you want to focus on the functions first, you can go straight to Part 2 and use the poems I have chosen. You can then go back and enter your own texts--your functions should work no matter what text you've chosen.\n"
   ]
  },
  {
   "cell_type": "code",
   "execution_count": 1,
   "metadata": {},
   "outputs": [],
   "source": [
    "#Run this cell to import regular expressions\n",
    "#And to initialize the all texts list that will contain all of your dictionaries of text\n",
    "import re\n",
    "import statistics\n",
    "\n",
    "all_texts = []"
   ]
  },
  {
   "cell_type": "markdown",
   "metadata": {},
   "source": [
    "** understanding the text_to_dict function**\n",
    "\n",
    "You don't have to completely understand this function to use it, but you do need to understand its parameters. It takes three parameters:\n",
    "* `title` is a string you need to write inside function's parameters\n",
    "* `text` is the variable that holds the entire text\n",
    "* `poem` True/False parameter --if it is true it will split your text by line (`\\n`) \n",
    " \tIf it is false it will split your text by sentence ('[.?!])\n",
    "\n",
    "If you look at the function you will see that it builds a dictionary with the following fields:\n",
    "* `title` is the title of the text\n",
    "* `text_as_string` is the full text as a string\n",
    "* `lines` is a list of lines or sentences\n",
    "\n",
    "It returns a dictionary with those fields."
   ]
  },
  {
   "cell_type": "code",
   "execution_count": 2,
   "metadata": {},
   "outputs": [],
   "source": [
    "def text_to_dict(title,text,poem):\n",
    "    dict_of_this_text = {}\n",
    "    dict_of_this_text['title'] = title\n",
    "    dict_of_this_text['text_as_string'] = text\n",
    "    if poem:\n",
    "        text_to_list = text.strip().split('\\n')\n",
    "    else:\n",
    "        text_to_list = re.split(r\"[.?!]\",text)\n",
    "    dict_of_this_text['lines'] = text_to_list\n",
    "    return dict_of_this_text"
   ]
  },
  {
   "cell_type": "code",
   "execution_count": 3,
   "metadata": {},
   "outputs": [],
   "source": [
    "#please note: the regular expression I am using to split by sentences\n",
    "#is highly flawed, it is actually impossible to write regular expression \n",
    "#that splits 100% perfectly by sentence, but feel free to use this."
   ]
  },
  {
   "cell_type": "markdown",
   "metadata": {},
   "source": [
    "## Part One\n",
    "\n",
    "The next five cells are exactly the same. They define five different texts, and then they pass each text through the `text_to_dict` function. And then they add the resulting dictionary to the all_texts list. \n",
    "\n",
    "In the five cells below enter your five selected texts.\n",
    "\n",
    "**You should do no coding at any point** until the very last cell before part two."
   ]
  },
  {
   "cell_type": "code",
   "execution_count": 4,
   "metadata": {},
   "outputs": [],
   "source": [
    "#To change the text, just put a new text between the quotation mark\n",
    "text0 = '''\n",
    "An upright abutment in the mouth\n",
    "of the Willis Avenue bridge\n",
    "a beige Honda leaps the divider\n",
    "like a steel gazelle inescapable\n",
    "sleek leather boots on the pavement\n",
    "rat-a-tat-tat best intentions\n",
    "going down for the third time\n",
    "stuck in the particular\n",
    "You cannot make love to concrete\n",
    "if you care about being\n",
    "non-essential wrong or worn thin\n",
    "if you fear ever becoming\n",
    "diamonds or lard\n",
    "you cannot make love to concrete\n",
    "if you cannot pretend\n",
    "concrete needs your loving\n",
    "To make love to concrete\n",
    "you need an indelible feather\n",
    "white dresses before you are ten\n",
    "a confirmation lace veil milk-large bones\n",
    "and air raid drills in your nightmares\n",
    "no stars till you go to the country\n",
    "and one summer when you are twelve\n",
    "Con Edison pulls the plug\n",
    "on the street-corner moons Walpurgisnacht\n",
    "and there are sudden new lights in the sky\n",
    "stone chips that forget you need\n",
    "to become a light rope a hammer\n",
    "a repeatable bridge\n",
    "garden-fresh broccoli two dozen dropped eggs\n",
    "and a hint of you\n",
    "caught up between my fingers\n",
    "the lesson of a wooden beam\n",
    "propped up on barrels\n",
    "across a mined terrain\n",
    "between forgiving too easily\n",
    "and never giving at all.\n",
    "'''\n",
    "#Remember: you need to type the title into the first parameter\n",
    "#If you want to split by line choose True for the third parameter\n",
    "#If you want to split by sentence, choose False\n",
    "transform_it = text_to_dict(\"Making Love to Concentrate\",text0,True)\n",
    "all_texts.append(transform_it)"
   ]
  },
  {
   "cell_type": "code",
   "execution_count": 5,
   "metadata": {},
   "outputs": [],
   "source": [
    "text1 = '''\n",
    "Time collapses between the lips of strangers \n",
    "my days collapse into a hollow tube\n",
    "soon implodes against now\n",
    "like an iron wall\n",
    "my eyes are blocked with rubble\n",
    "a smear of perspectives\n",
    "blurring each horizon\n",
    "in the breathless precision of silence\n",
    "one word is made.\n",
    "Once the renegade flesh was gone \n",
    "fall air lay against my face\n",
    "sharp and blue as a needle\n",
    "but the rain fell through October \n",
    "and death lay a condemnation \n",
    "within my blood.\n",
    "The smell of your neck in August \n",
    "a fine gold wire bejeweling war \n",
    "all the rest lies\n",
    "illusive as a farmhouse\n",
    "on the other side of a valley\n",
    "vanishing in the afternoon.\n",
    "Day three day four day ten \n",
    "the seventh step\n",
    "a veiled door leading to my golden anniversary \n",
    "flameproofed free-paper shredded \n",
    "in the teeth of a pillaging dog \n",
    "never to dream of spiders \n",
    "and when they turned the hoses upon me\n",
    "a burst of light.\n",
    "'''\n",
    "transform_it = text_to_dict(\"Never To Dream Of Spiders\",text1,True)\n",
    "all_texts.append(transform_it)"
   ]
  },
  {
   "cell_type": "code",
   "execution_count": 6,
   "metadata": {},
   "outputs": [],
   "source": [
    "text2 = '''\n",
    "It has rained for five days\n",
    "running\n",
    "the world is\n",
    "a round puddle\n",
    "of sunless water\n",
    "where small islands\n",
    "are only beginning\n",
    "to cope\n",
    "a young boy\n",
    "in my garden\n",
    "is bailing out water\n",
    "from his flower patch\n",
    "when I ask him why\n",
    "he tells me\n",
    "young seeds that have not seen sun\n",
    "forget\n",
    "and drown easily.\n",
    "'''\n",
    "transform_it = text_to_dict(\"Coping\",text2,True)\n",
    "all_texts.append(transform_it)"
   ]
  },
  {
   "cell_type": "code",
   "execution_count": 7,
   "metadata": {},
   "outputs": [
    {
     "data": {
      "text/plain": [
       "'Never To Dream Of Spiders'"
      ]
     },
     "execution_count": 7,
     "metadata": {},
     "output_type": "execute_result"
    }
   ],
   "source": [
    "all_texts[1]['title']"
   ]
  },
  {
   "cell_type": "code",
   "execution_count": 8,
   "metadata": {},
   "outputs": [],
   "source": [
    "text3 = '''\n",
    "The difference between poetry and rhetoric\n",
    "is being ready to kill\n",
    "yourself\n",
    "instead of your children.\n",
    "I am trapped on a desert of raw gunshot wounds\n",
    "and a dead child dragging his shattered black\n",
    "face off the edge of my sleep\n",
    "blood from his punctured cheeks and shoulders\n",
    "is the only liquid for miles\n",
    "and my stomach\n",
    "churns at the imagined taste while\n",
    "my mouth splits into dry lips\n",
    "without loyalty or reason\n",
    "thirsting for the wetness of his blood\n",
    "as it sinks into the whiteness\n",
    "of the desert where I am lost\n",
    "without imagery or magic\n",
    "trying to make power out of hatred and destruction\n",
    "trying to heal my dying son with kisses\n",
    "only the sun will bleach his bones quicker.\n",
    "A policeman who shot down a ten year old in Queens\n",
    "stood over the boy with his cop shoes in childish blood\n",
    "and a voice said “Die you little motherfucker” and\n",
    "there are tapes to prove it. At his trial\n",
    "this policeman said in his own defense\n",
    "“I didn't notice the size nor nothing else\n",
    "only the color”. And\n",
    "there are tapes to prove that, too.\n",
    "Today that 37 year old white man\n",
    "with 13 years of police forcing\n",
    "was set free\n",
    "by eleven white men who said they were satisfied\n",
    "justice had been done\n",
    "and one Black Woman who said\n",
    "“They convinced me” meaning\n",
    "they had dragged her 4'10'' black Woman's frame\n",
    "over the hot coals\n",
    "of four centuries of white male approval\n",
    "until she let go\n",
    "the first real power she ever had\n",
    "and lined her own womb with cement\n",
    "to make a graveyard for our children.\n",
    "I have not been able to touch the destruction\n",
    "within me.\n",
    "But unless I learn to use\n",
    "the difference between poetry and rhetoric\n",
    "my power too will run corrupt as poisonous mold\n",
    "or lie limp and useless as an unconnected wire\n",
    "and one day I will take my teenaged plug\n",
    "and connect it to the nearest socket\n",
    "raping an 85 year old white woman\n",
    "who is somebody's mother\n",
    "and as I beat her senseless and set a torch to her bed\n",
    "a greek chorus will be singing in 3/4 time\n",
    "“Poor thing. She never hurt a soul. What beasts they are.”\n",
    "'''\n",
    "transform_it = text_to_dict(\"Power\",text3,True)\n",
    "all_texts.append(transform_it)"
   ]
  },
  {
   "cell_type": "code",
   "execution_count": 9,
   "metadata": {},
   "outputs": [],
   "source": [
    "text4 = '''\n",
    "I am fourteen\n",
    "and my skin has betrayed me \n",
    "the boy I cannot live without \n",
    "still sucks his thumb\n",
    "in secret\n",
    "how come my knees are\n",
    "always so ashy\n",
    "what if I die\n",
    "before morning\n",
    "and momma's in the bedroom \n",
    "with the door closed.\n",
    "I have to learn how to dance \n",
    "in time for the next party \n",
    "my room is too small for me \n",
    "suppose I die before graduation \n",
    "they will sing sad melodies \n",
    "but finally\n",
    "tell the truth about me\n",
    "There is nothing I want to do \n",
    "and too much\n",
    "that has to be done\n",
    "and momma's in the bedroom \n",
    "with the door closed.\n",
    "Nobody even stops to think \n",
    "about my side of it\n",
    "I should have been on Math Team \n",
    "my marks were better than his \n",
    "why do I have to be\n",
    "the one\n",
    "wearing braces\n",
    "I have nothing to wear tomorrow \n",
    "will I live long enough\n",
    "to grow up\n",
    "and momma's in the bedroom \n",
    "with the door closed.\n",
    "'''\n",
    "transform_it = text_to_dict(\"Hanging Fire\",text4,True)\n",
    "all_texts.append(transform_it)"
   ]
  },
  {
   "cell_type": "markdown",
   "metadata": {},
   "source": [
    "Run the two cells below to confirm that first, you only have five texts in the all_texts list, and next, look at the all_texts list to see the dictionary inside it. "
   ]
  },
  {
   "cell_type": "code",
   "execution_count": 10,
   "metadata": {},
   "outputs": [
    {
     "data": {
      "text/plain": [
       "5"
      ]
     },
     "execution_count": 10,
     "metadata": {},
     "output_type": "execute_result"
    }
   ],
   "source": [
    "len(all_texts)"
   ]
  },
  {
   "cell_type": "code",
   "execution_count": 11,
   "metadata": {},
   "outputs": [
    {
     "data": {
      "text/plain": [
       "[{'title': 'Making Love to Concentrate',\n",
       "  'text_as_string': '\\nAn upright abutment in the mouth\\nof the Willis Avenue bridge\\na beige Honda leaps the divider\\nlike a steel gazelle inescapable\\nsleek leather boots on the pavement\\nrat-a-tat-tat best intentions\\ngoing down for the third time\\nstuck in the particular\\nYou cannot make love to concrete\\nif you care about being\\nnon-essential wrong or worn thin\\nif you fear ever becoming\\ndiamonds or lard\\nyou cannot make love to concrete\\nif you cannot pretend\\nconcrete needs your loving\\nTo make love to concrete\\nyou need an indelible feather\\nwhite dresses before you are ten\\na confirmation lace veil milk-large bones\\nand air raid drills in your nightmares\\nno stars till you go to the country\\nand one summer when you are twelve\\nCon Edison pulls the plug\\non the street-corner moons Walpurgisnacht\\nand there are sudden new lights in the sky\\nstone chips that forget you need\\nto become a light rope a hammer\\na repeatable bridge\\ngarden-fresh broccoli two dozen dropped eggs\\nand a hint of you\\ncaught up between my fingers\\nthe lesson of a wooden beam\\npropped up on barrels\\nacross a mined terrain\\nbetween forgiving too easily\\nand never giving at all.\\n',\n",
       "  'lines': ['An upright abutment in the mouth',\n",
       "   'of the Willis Avenue bridge',\n",
       "   'a beige Honda leaps the divider',\n",
       "   'like a steel gazelle inescapable',\n",
       "   'sleek leather boots on the pavement',\n",
       "   'rat-a-tat-tat best intentions',\n",
       "   'going down for the third time',\n",
       "   'stuck in the particular',\n",
       "   'You cannot make love to concrete',\n",
       "   'if you care about being',\n",
       "   'non-essential wrong or worn thin',\n",
       "   'if you fear ever becoming',\n",
       "   'diamonds or lard',\n",
       "   'you cannot make love to concrete',\n",
       "   'if you cannot pretend',\n",
       "   'concrete needs your loving',\n",
       "   'To make love to concrete',\n",
       "   'you need an indelible feather',\n",
       "   'white dresses before you are ten',\n",
       "   'a confirmation lace veil milk-large bones',\n",
       "   'and air raid drills in your nightmares',\n",
       "   'no stars till you go to the country',\n",
       "   'and one summer when you are twelve',\n",
       "   'Con Edison pulls the plug',\n",
       "   'on the street-corner moons Walpurgisnacht',\n",
       "   'and there are sudden new lights in the sky',\n",
       "   'stone chips that forget you need',\n",
       "   'to become a light rope a hammer',\n",
       "   'a repeatable bridge',\n",
       "   'garden-fresh broccoli two dozen dropped eggs',\n",
       "   'and a hint of you',\n",
       "   'caught up between my fingers',\n",
       "   'the lesson of a wooden beam',\n",
       "   'propped up on barrels',\n",
       "   'across a mined terrain',\n",
       "   'between forgiving too easily',\n",
       "   'and never giving at all.']},\n",
       " {'title': 'Never To Dream Of Spiders',\n",
       "  'text_as_string': '\\nTime collapses between the lips of strangers \\nmy days collapse into a hollow tube\\nsoon implodes against now\\nlike an iron wall\\nmy eyes are blocked with rubble\\na smear of perspectives\\nblurring each horizon\\nin the breathless precision of silence\\none word is made.\\nOnce the renegade flesh was gone \\nfall air lay against my face\\nsharp and blue as a needle\\nbut the rain fell through October \\nand death lay a condemnation \\nwithin my blood.\\nThe smell of your neck in August \\na fine gold wire bejeweling war \\nall the rest lies\\nillusive as a farmhouse\\non the other side of a valley\\nvanishing in the afternoon.\\nDay three day four day ten \\nthe seventh step\\na veiled door leading to my golden anniversary \\nflameproofed free-paper shredded \\nin the teeth of a pillaging dog \\nnever to dream of spiders \\nand when they turned the hoses upon me\\na burst of light.\\n',\n",
       "  'lines': ['Time collapses between the lips of strangers ',\n",
       "   'my days collapse into a hollow tube',\n",
       "   'soon implodes against now',\n",
       "   'like an iron wall',\n",
       "   'my eyes are blocked with rubble',\n",
       "   'a smear of perspectives',\n",
       "   'blurring each horizon',\n",
       "   'in the breathless precision of silence',\n",
       "   'one word is made.',\n",
       "   'Once the renegade flesh was gone ',\n",
       "   'fall air lay against my face',\n",
       "   'sharp and blue as a needle',\n",
       "   'but the rain fell through October ',\n",
       "   'and death lay a condemnation ',\n",
       "   'within my blood.',\n",
       "   'The smell of your neck in August ',\n",
       "   'a fine gold wire bejeweling war ',\n",
       "   'all the rest lies',\n",
       "   'illusive as a farmhouse',\n",
       "   'on the other side of a valley',\n",
       "   'vanishing in the afternoon.',\n",
       "   'Day three day four day ten ',\n",
       "   'the seventh step',\n",
       "   'a veiled door leading to my golden anniversary ',\n",
       "   'flameproofed free-paper shredded ',\n",
       "   'in the teeth of a pillaging dog ',\n",
       "   'never to dream of spiders ',\n",
       "   'and when they turned the hoses upon me',\n",
       "   'a burst of light.']},\n",
       " {'title': 'Coping',\n",
       "  'text_as_string': '\\nIt has rained for five days\\nrunning\\nthe world is\\na round puddle\\nof sunless water\\nwhere small islands\\nare only beginning\\nto cope\\na young boy\\nin my garden\\nis bailing out water\\nfrom his flower patch\\nwhen I ask him why\\nhe tells me\\nyoung seeds that have not seen sun\\nforget\\nand drown easily.\\n',\n",
       "  'lines': ['It has rained for five days',\n",
       "   'running',\n",
       "   'the world is',\n",
       "   'a round puddle',\n",
       "   'of sunless water',\n",
       "   'where small islands',\n",
       "   'are only beginning',\n",
       "   'to cope',\n",
       "   'a young boy',\n",
       "   'in my garden',\n",
       "   'is bailing out water',\n",
       "   'from his flower patch',\n",
       "   'when I ask him why',\n",
       "   'he tells me',\n",
       "   'young seeds that have not seen sun',\n",
       "   'forget',\n",
       "   'and drown easily.']},\n",
       " {'title': 'Power',\n",
       "  'text_as_string': \"\\nThe difference between poetry and rhetoric\\nis being ready to kill\\nyourself\\ninstead of your children.\\nI am trapped on a desert of raw gunshot wounds\\nand a dead child dragging his shattered black\\nface off the edge of my sleep\\nblood from his punctured cheeks and shoulders\\nis the only liquid for miles\\nand my stomach\\nchurns at the imagined taste while\\nmy mouth splits into dry lips\\nwithout loyalty or reason\\nthirsting for the wetness of his blood\\nas it sinks into the whiteness\\nof the desert where I am lost\\nwithout imagery or magic\\ntrying to make power out of hatred and destruction\\ntrying to heal my dying son with kisses\\nonly the sun will bleach his bones quicker.\\nA policeman who shot down a ten year old in Queens\\nstood over the boy with his cop shoes in childish blood\\nand a voice said “Die you little motherfucker” and\\nthere are tapes to prove it. At his trial\\nthis policeman said in his own defense\\n“I didn't notice the size nor nothing else\\nonly the color”. And\\nthere are tapes to prove that, too.\\nToday that 37 year old white man\\nwith 13 years of police forcing\\nwas set free\\nby eleven white men who said they were satisfied\\njustice had been done\\nand one Black Woman who said\\n“They convinced me” meaning\\nthey had dragged her 4'10'' black Woman's frame\\nover the hot coals\\nof four centuries of white male approval\\nuntil she let go\\nthe first real power she ever had\\nand lined her own womb with cement\\nto make a graveyard for our children.\\nI have not been able to touch the destruction\\nwithin me.\\nBut unless I learn to use\\nthe difference between poetry and rhetoric\\nmy power too will run corrupt as poisonous mold\\nor lie limp and useless as an unconnected wire\\nand one day I will take my teenaged plug\\nand connect it to the nearest socket\\nraping an 85 year old white woman\\nwho is somebody's mother\\nand as I beat her senseless and set a torch to her bed\\na greek chorus will be singing in 3/4 time\\n“Poor thing. She never hurt a soul. What beasts they are.”\\n\",\n",
       "  'lines': ['The difference between poetry and rhetoric',\n",
       "   'is being ready to kill',\n",
       "   'yourself',\n",
       "   'instead of your children.',\n",
       "   'I am trapped on a desert of raw gunshot wounds',\n",
       "   'and a dead child dragging his shattered black',\n",
       "   'face off the edge of my sleep',\n",
       "   'blood from his punctured cheeks and shoulders',\n",
       "   'is the only liquid for miles',\n",
       "   'and my stomach',\n",
       "   'churns at the imagined taste while',\n",
       "   'my mouth splits into dry lips',\n",
       "   'without loyalty or reason',\n",
       "   'thirsting for the wetness of his blood',\n",
       "   'as it sinks into the whiteness',\n",
       "   'of the desert where I am lost',\n",
       "   'without imagery or magic',\n",
       "   'trying to make power out of hatred and destruction',\n",
       "   'trying to heal my dying son with kisses',\n",
       "   'only the sun will bleach his bones quicker.',\n",
       "   'A policeman who shot down a ten year old in Queens',\n",
       "   'stood over the boy with his cop shoes in childish blood',\n",
       "   'and a voice said “Die you little motherfucker” and',\n",
       "   'there are tapes to prove it. At his trial',\n",
       "   'this policeman said in his own defense',\n",
       "   \"“I didn't notice the size nor nothing else\",\n",
       "   'only the color”. And',\n",
       "   'there are tapes to prove that, too.',\n",
       "   'Today that 37 year old white man',\n",
       "   'with 13 years of police forcing',\n",
       "   'was set free',\n",
       "   'by eleven white men who said they were satisfied',\n",
       "   'justice had been done',\n",
       "   'and one Black Woman who said',\n",
       "   '“They convinced me” meaning',\n",
       "   \"they had dragged her 4'10'' black Woman's frame\",\n",
       "   'over the hot coals',\n",
       "   'of four centuries of white male approval',\n",
       "   'until she let go',\n",
       "   'the first real power she ever had',\n",
       "   'and lined her own womb with cement',\n",
       "   'to make a graveyard for our children.',\n",
       "   'I have not been able to touch the destruction',\n",
       "   'within me.',\n",
       "   'But unless I learn to use',\n",
       "   'the difference between poetry and rhetoric',\n",
       "   'my power too will run corrupt as poisonous mold',\n",
       "   'or lie limp and useless as an unconnected wire',\n",
       "   'and one day I will take my teenaged plug',\n",
       "   'and connect it to the nearest socket',\n",
       "   'raping an 85 year old white woman',\n",
       "   \"who is somebody's mother\",\n",
       "   'and as I beat her senseless and set a torch to her bed',\n",
       "   'a greek chorus will be singing in 3/4 time',\n",
       "   '“Poor thing. She never hurt a soul. What beasts they are.”']},\n",
       " {'title': 'Hanging Fire',\n",
       "  'text_as_string': \"\\nI am fourteen\\nand my skin has betrayed me \\nthe boy I cannot live without \\nstill sucks his thumb\\nin secret\\nhow come my knees are\\nalways so ashy\\nwhat if I die\\nbefore morning\\nand momma's in the bedroom \\nwith the door closed.\\nI have to learn how to dance \\nin time for the next party \\nmy room is too small for me \\nsuppose I die before graduation \\nthey will sing sad melodies \\nbut finally\\ntell the truth about me\\nThere is nothing I want to do \\nand too much\\nthat has to be done\\nand momma's in the bedroom \\nwith the door closed.\\nNobody even stops to think \\nabout my side of it\\nI should have been on Math Team \\nmy marks were better than his \\nwhy do I have to be\\nthe one\\nwearing braces\\nI have nothing to wear tomorrow \\nwill I live long enough\\nto grow up\\nand momma's in the bedroom \\nwith the door closed.\\n\",\n",
       "  'lines': ['I am fourteen',\n",
       "   'and my skin has betrayed me ',\n",
       "   'the boy I cannot live without ',\n",
       "   'still sucks his thumb',\n",
       "   'in secret',\n",
       "   'how come my knees are',\n",
       "   'always so ashy',\n",
       "   'what if I die',\n",
       "   'before morning',\n",
       "   \"and momma's in the bedroom \",\n",
       "   'with the door closed.',\n",
       "   'I have to learn how to dance ',\n",
       "   'in time for the next party ',\n",
       "   'my room is too small for me ',\n",
       "   'suppose I die before graduation ',\n",
       "   'they will sing sad melodies ',\n",
       "   'but finally',\n",
       "   'tell the truth about me',\n",
       "   'There is nothing I want to do ',\n",
       "   'and too much',\n",
       "   'that has to be done',\n",
       "   \"and momma's in the bedroom \",\n",
       "   'with the door closed.',\n",
       "   'Nobody even stops to think ',\n",
       "   'about my side of it',\n",
       "   'I should have been on Math Team ',\n",
       "   'my marks were better than his ',\n",
       "   'why do I have to be',\n",
       "   'the one',\n",
       "   'wearing braces',\n",
       "   'I have nothing to wear tomorrow ',\n",
       "   'will I live long enough',\n",
       "   'to grow up',\n",
       "   \"and momma's in the bedroom \",\n",
       "   'with the door closed.']}]"
      ]
     },
     "execution_count": 11,
     "metadata": {},
     "output_type": "execute_result"
    }
   ],
   "source": [
    "all_texts"
   ]
  },
  {
   "cell_type": "markdown",
   "metadata": {},
   "source": [
    "In the cell below, loop through all_texts and print out the title of each text. (This is the only code you need to write for Part One.)"
   ]
  },
  {
   "cell_type": "code",
   "execution_count": 12,
   "metadata": {},
   "outputs": [
    {
     "name": "stdout",
     "output_type": "stream",
     "text": [
      "Making Love to Concentrate\n",
      "Never To Dream Of Spiders\n",
      "Coping\n",
      "Power\n",
      "Hanging Fire\n"
     ]
    }
   ],
   "source": [
    "###Write your code here\n",
    "for text in all_texts:\n",
    "    print(text['title'])"
   ]
  },
  {
   "cell_type": "markdown",
   "metadata": {},
   "source": [
    "## Part Two:  searching within lists and dictionaries\n",
    "In this part, we will be searching through each text and printing out a desired result. The searches, including loops and printing should all be defined in the function. The second cell should just have to function call that executes the function. I have written an example function and call for the first search. For each function that you write you should copy the original function and modify it so what does what I ask for.\n",
    "\n",
    "For the first five functions, there are no parameters passed to the functions--the calls will just execute the function. Go step-by-step and take your time."
   ]
  },
  {
   "cell_type": "code",
   "execution_count": 13,
   "metadata": {},
   "outputs": [],
   "source": [
    "def get_lengths():\n",
    "    for text in all_texts:\n",
    "        print(text['title'])\n",
    "        print(len(text['text_as_string']))\n",
    "        print(\"------------\")"
   ]
  },
  {
   "cell_type": "code",
   "execution_count": 14,
   "metadata": {},
   "outputs": [
    {
     "name": "stdout",
     "output_type": "stream",
     "text": [
      "Making Love to Concentrate\n",
      "1117\n",
      "------------\n",
      "Never To Dream Of Spiders\n",
      "845\n",
      "------------\n",
      "Coping\n",
      "288\n",
      "------------\n",
      "Power\n",
      "1958\n",
      "------------\n",
      "Hanging Fire\n",
      "795\n",
      "------------\n"
     ]
    }
   ],
   "source": [
    "get_lengths()"
   ]
  },
  {
   "cell_type": "markdown",
   "metadata": {},
   "source": [
    "Question 1\n",
    "Now write a function that gets the **line count for each poem** (or sentence count for each piece of prose). This function is going to be very similar to the last one. Instead of accessing the whole text via text['text_as_string'] which is a string, you need to access the list of lines/sentences and get the length of that list. Everything else should be the same."
   ]
  },
  {
   "cell_type": "code",
   "execution_count": 15,
   "metadata": {},
   "outputs": [],
   "source": [
    "#Write your function here, name it get_line_count()\n",
    "\n",
    "def get_line_count():\n",
    "    for text in all_texts:\n",
    "        print(text['title'])\n",
    "        print(len(text['lines']))\n",
    "        print(\"------------\")"
   ]
  },
  {
   "cell_type": "code",
   "execution_count": 16,
   "metadata": {},
   "outputs": [
    {
     "name": "stdout",
     "output_type": "stream",
     "text": [
      "Making Love to Concentrate\n",
      "37\n",
      "------------\n",
      "Never To Dream Of Spiders\n",
      "29\n",
      "------------\n",
      "Coping\n",
      "17\n",
      "------------\n",
      "Power\n",
      "55\n",
      "------------\n",
      "Hanging Fire\n",
      "35\n",
      "------------\n"
     ]
    }
   ],
   "source": [
    "get_line_count()"
   ]
  },
  {
   "cell_type": "markdown",
   "metadata": {},
   "source": [
    "Question 2\n",
    "Now write a function that prints out **one random line or sentence from each text**. Again, this function will look much the same as the last ones, but instead of getting numbers you need to get actual lines. I have included the necessary import and an example of how to get random integers. Basically, for each text you need to get one element from the list of lines/ sentences with a random number between 0 and the length of the list."
   ]
  },
  {
   "cell_type": "code",
   "execution_count": 17,
   "metadata": {},
   "outputs": [],
   "source": [
    "from random import randint\n",
    "#Write your function here name it show_random_lines()\n",
    "\n",
    "def show_random_lines():\n",
    "    for text in all_texts:\n",
    "        print(text['title'])\n",
    "        no_lines = len(text['lines'])\n",
    "        random_num = randint(0, no_lines - 1)\n",
    "        print(text['lines'][random_num])\n",
    "        print(\"------------\")\n",
    "#This should be inside the inner loop \n",
    "#so you get a fresh random number for each text\n",
    "#And it should not be from 0 to 9, but 0 to what?\n",
    "#Keep in mind that the range (0,9) give you any number \n",
    "#from 0 to 9 including both 0 and 9.\n",
    "# random_num = randint(0, 9)"
   ]
  },
  {
   "cell_type": "code",
   "execution_count": 18,
   "metadata": {},
   "outputs": [
    {
     "name": "stdout",
     "output_type": "stream",
     "text": [
      "Making Love to Concentrate\n",
      "like a steel gazelle inescapable\n",
      "------------\n",
      "Never To Dream Of Spiders\n",
      "Time collapses between the lips of strangers \n",
      "------------\n",
      "Coping\n",
      "and drown easily.\n",
      "------------\n",
      "Power\n",
      "of the desert where I am lost\n",
      "------------\n",
      "Hanging Fire\n",
      "in time for the next party \n",
      "------------\n"
     ]
    }
   ],
   "source": [
    "show_random_lines()"
   ]
  },
  {
   "cell_type": "markdown",
   "metadata": {},
   "source": [
    "Question 3\n",
    "This is a little bit different--instead of printing out something from each text, I want you to **print the entire text of the longest text**. Remember in the first function, I printed out the length of each text. Well, you need to test for the longest text as you look through and when you're done looping through print out the one that is longest.\n",
    "\n",
    "**Major hints!**: To do this you will need two **tracking variables** set before the loop runs: A numerical one that tracks the longest length (the number), and string variable remembers the actual text that has that length.\n",
    "\n",
    "Like this: longest_length = 0 and longest_text = \"\"\n",
    "\n",
    "When you loop through you need to test if each text was longer than the last one, and if it is longer--you update longest_length and longest_text to reflect the highest length, and the actual text. When the loop is over you then print out that longest_text string."
   ]
  },
  {
   "cell_type": "code",
   "execution_count": 19,
   "metadata": {},
   "outputs": [],
   "source": [
    "#Write your function here, name it longest_text()\n",
    "\n",
    "def longest_text():\n",
    "    longest_len = 0\n",
    "    longest_text = ''\n",
    "    longest_title = ''\n",
    "    for text in all_texts:\n",
    "        if len(text['text_as_string']) > longest_len:\n",
    "            longest_len = len(text['text_as_string'])\n",
    "            longest_text = text['text_as_string']\n",
    "            longest_title = text['title']\n",
    "    print(longest_title)\n",
    "    print(longest_text)"
   ]
  },
  {
   "cell_type": "code",
   "execution_count": 20,
   "metadata": {},
   "outputs": [
    {
     "name": "stdout",
     "output_type": "stream",
     "text": [
      "Power\n",
      "\n",
      "The difference between poetry and rhetoric\n",
      "is being ready to kill\n",
      "yourself\n",
      "instead of your children.\n",
      "I am trapped on a desert of raw gunshot wounds\n",
      "and a dead child dragging his shattered black\n",
      "face off the edge of my sleep\n",
      "blood from his punctured cheeks and shoulders\n",
      "is the only liquid for miles\n",
      "and my stomach\n",
      "churns at the imagined taste while\n",
      "my mouth splits into dry lips\n",
      "without loyalty or reason\n",
      "thirsting for the wetness of his blood\n",
      "as it sinks into the whiteness\n",
      "of the desert where I am lost\n",
      "without imagery or magic\n",
      "trying to make power out of hatred and destruction\n",
      "trying to heal my dying son with kisses\n",
      "only the sun will bleach his bones quicker.\n",
      "A policeman who shot down a ten year old in Queens\n",
      "stood over the boy with his cop shoes in childish blood\n",
      "and a voice said “Die you little motherfucker” and\n",
      "there are tapes to prove it. At his trial\n",
      "this policeman said in his own defense\n",
      "“I didn't notice the size nor nothing else\n",
      "only the color”. And\n",
      "there are tapes to prove that, too.\n",
      "Today that 37 year old white man\n",
      "with 13 years of police forcing\n",
      "was set free\n",
      "by eleven white men who said they were satisfied\n",
      "justice had been done\n",
      "and one Black Woman who said\n",
      "“They convinced me” meaning\n",
      "they had dragged her 4'10'' black Woman's frame\n",
      "over the hot coals\n",
      "of four centuries of white male approval\n",
      "until she let go\n",
      "the first real power she ever had\n",
      "and lined her own womb with cement\n",
      "to make a graveyard for our children.\n",
      "I have not been able to touch the destruction\n",
      "within me.\n",
      "But unless I learn to use\n",
      "the difference between poetry and rhetoric\n",
      "my power too will run corrupt as poisonous mold\n",
      "or lie limp and useless as an unconnected wire\n",
      "and one day I will take my teenaged plug\n",
      "and connect it to the nearest socket\n",
      "raping an 85 year old white woman\n",
      "who is somebody's mother\n",
      "and as I beat her senseless and set a torch to her bed\n",
      "a greek chorus will be singing in 3/4 time\n",
      "“Poor thing. She never hurt a soul. What beasts they are.”\n",
      "\n"
     ]
    }
   ],
   "source": [
    "longest_text()"
   ]
  },
  {
   "cell_type": "markdown",
   "metadata": {},
   "source": [
    "Question 4\n",
    "This is kind of a combination of the first two functions--write a function that gets the **average line/sentence length for each text**."
   ]
  },
  {
   "cell_type": "code",
   "execution_count": 21,
   "metadata": {},
   "outputs": [],
   "source": [
    "#Write your function here\n",
    "\n",
    "def average_line_length():\n",
    "    for text in all_texts:\n",
    "        no_lines = len(text['lines'])\n",
    "        text_length = len(text['text_as_string'])\n",
    "        print(text['title'])\n",
    "        print(round(text_length / no_lines))\n",
    "        print(\"------------\")"
   ]
  },
  {
   "cell_type": "code",
   "execution_count": 22,
   "metadata": {},
   "outputs": [
    {
     "name": "stdout",
     "output_type": "stream",
     "text": [
      "Making Love to Concentrate\n",
      "30\n",
      "------------\n",
      "Never To Dream Of Spiders\n",
      "29\n",
      "------------\n",
      "Coping\n",
      "17\n",
      "------------\n",
      "Power\n",
      "36\n",
      "------------\n",
      "Hanging Fire\n",
      "23\n",
      "------------\n"
     ]
    }
   ],
   "source": [
    "average_line_length()"
   ]
  },
  {
   "cell_type": "markdown",
   "metadata": {},
   "source": [
    "Question 5\n",
    "**Print the longest line/sentence in each text**. \n",
    "This is similar to question 3--but your two tracking variables (longest_length and longest_line) need to be placed right before the inside loop--and then you print the lines each time the inside loop ends."
   ]
  },
  {
   "cell_type": "code",
   "execution_count": 23,
   "metadata": {},
   "outputs": [
    {
     "data": {
      "text/plain": [
       "'An upright abutment in the mouth'"
      ]
     },
     "execution_count": 23,
     "metadata": {},
     "output_type": "execute_result"
    }
   ],
   "source": [
    "all_texts[0]['lines'][0]"
   ]
  },
  {
   "cell_type": "code",
   "execution_count": 24,
   "metadata": {},
   "outputs": [],
   "source": [
    "#Write your function here\n",
    "def longest_line_in_each():\n",
    "    for text in all_texts:\n",
    "        longest_len = 0\n",
    "        longest_line = ''\n",
    "        for line in text['lines']:\n",
    "            if len(line) > longest_len:\n",
    "                longest_line = line\n",
    "                longest_len = len(line)\n",
    "        print(text['title'])\n",
    "        print(longest_line)\n",
    "        print(\"------------\")"
   ]
  },
  {
   "cell_type": "code",
   "execution_count": 25,
   "metadata": {},
   "outputs": [
    {
     "name": "stdout",
     "output_type": "stream",
     "text": [
      "Making Love to Concentrate\n",
      "garden-fresh broccoli two dozen dropped eggs\n",
      "------------\n",
      "Never To Dream Of Spiders\n",
      "a veiled door leading to my golden anniversary \n",
      "------------\n",
      "Coping\n",
      "young seeds that have not seen sun\n",
      "------------\n",
      "Power\n",
      "“Poor thing. She never hurt a soul. What beasts they are.”\n",
      "------------\n",
      "Hanging Fire\n",
      "suppose I die before graduation \n",
      "------------\n"
     ]
    }
   ],
   "source": [
    "longest_line_in_each()"
   ]
  },
  {
   "cell_type": "markdown",
   "metadata": {},
   "source": [
    "Question 6\n",
    "**Print the shortest single line/sentence out of all of the texts that is greater than zero**\n",
    "This is the tricky-ish: You need to place the tracking variables outside the loop (like question 4, but the loop through all of the lines, test for the shortest one (greater than 0)."
   ]
  },
  {
   "cell_type": "code",
   "execution_count": 26,
   "metadata": {},
   "outputs": [],
   "source": [
    "#Write your function here\n",
    "\n",
    "def shortest_of_all_lines():\n",
    "    for text in all_texts:\n",
    "        shortest_len = 100\n",
    "        shortest_line = ''\n",
    "        for line in text['lines']:\n",
    "            if len(line) < shortest_len:\n",
    "                shortest_line = line\n",
    "                shortest_len = len(line)\n",
    "        print(text['title'])\n",
    "        print(shortest_line)\n",
    "        print(\"------------\")"
   ]
  },
  {
   "cell_type": "code",
   "execution_count": 27,
   "metadata": {},
   "outputs": [
    {
     "name": "stdout",
     "output_type": "stream",
     "text": [
      "Making Love to Concentrate\n",
      "diamonds or lard\n",
      "------------\n",
      "Never To Dream Of Spiders\n",
      "within my blood.\n",
      "------------\n",
      "Coping\n",
      "forget\n",
      "------------\n",
      "Power\n",
      "yourself\n",
      "------------\n",
      "Hanging Fire\n",
      "the one\n",
      "------------\n"
     ]
    }
   ],
   "source": [
    "shortest_of_all_lines()"
   ]
  },
  {
   "cell_type": "markdown",
   "metadata": {},
   "source": [
    "## searching with regular expressions\n",
    "In the functions below you will search all the texts using regular expressions. The first few of these functions should not be too challenging--you just need to adjust the regular expression inside the function. At points it gets a little more complex as you have to control the looping through the lists and dictionaries."
   ]
  },
  {
   "cell_type": "code",
   "execution_count": 28,
   "metadata": {},
   "outputs": [],
   "source": [
    "def get_this_word(word):\n",
    "    my_regex = r\"\\b\" + word + r\"\\b\"\n",
    "    for text in all_texts:\n",
    "        result = [line for line in text['lines'] if re.search(my_regex, line, re.IGNORECASE)]\n",
    "        if len(result) > 0:\n",
    "            print(text['title'])\n",
    "            [print(line) for line in result]\n",
    "            print(\"------------\")\n",
    "            "
   ]
  },
  {
   "cell_type": "code",
   "execution_count": 29,
   "metadata": {},
   "outputs": [
    {
     "name": "stdout",
     "output_type": "stream",
     "text": [
      "Making Love to Concentrate\n",
      "stone chips that forget you need\n",
      "------------\n",
      "Coping\n",
      "forget\n",
      "------------\n"
     ]
    }
   ],
   "source": [
    "get_this_word('forget')"
   ]
  },
  {
   "cell_type": "markdown",
   "metadata": {},
   "source": [
    "Question 7\n",
    "Print out the lines that **start** with the word entered.  You just need to adjust the regular expression here."
   ]
  },
  {
   "cell_type": "code",
   "execution_count": 30,
   "metadata": {},
   "outputs": [],
   "source": [
    "#Write your function here\n",
    "def line_starts_with(word):\n",
    "    my_regex = r\"^\" + word + r\"\\b\"\n",
    "    for text in all_texts:\n",
    "        result = [line for line in text['lines'] if re.search(my_regex, line, re.IGNORECASE)]\n",
    "        if len(result) > 0:\n",
    "            print(text['title'])\n",
    "            [print(line) for line in result]\n",
    "            print(\"------------\")"
   ]
  },
  {
   "cell_type": "code",
   "execution_count": 31,
   "metadata": {},
   "outputs": [
    {
     "name": "stdout",
     "output_type": "stream",
     "text": [
      "Making Love to Concentrate\n",
      "To make love to concrete\n",
      "to become a light rope a hammer\n",
      "------------\n",
      "Coping\n",
      "to cope\n",
      "------------\n",
      "Power\n",
      "to make a graveyard for our children.\n",
      "------------\n",
      "Hanging Fire\n",
      "to grow up\n",
      "------------\n"
     ]
    }
   ],
   "source": [
    "line_starts_with('to')"
   ]
  },
  {
   "cell_type": "markdown",
   "metadata": {},
   "source": [
    "Question 8\n",
    "Print out the lines that **end** with the word entered.  You just need to adjust the regular expression here."
   ]
  },
  {
   "cell_type": "code",
   "execution_count": 32,
   "metadata": {},
   "outputs": [],
   "source": [
    "#Write your function here\n",
    "def line_ends_with(word):\n",
    "    my_regex = r\"\\b\" + word + r\"\\W?$\"\n",
    "    for text in all_texts:\n",
    "        result = [line for line in text['lines'] if re.search(my_regex, line, re.IGNORECASE)]\n",
    "        if len(result) > 0:\n",
    "            print(text['title'])\n",
    "            [print(line) for line in result]\n",
    "            print(\"------------\")"
   ]
  },
  {
   "cell_type": "code",
   "execution_count": 33,
   "metadata": {},
   "outputs": [
    {
     "name": "stdout",
     "output_type": "stream",
     "text": [
      "Never To Dream Of Spiders\n",
      "and when they turned the hoses upon me\n",
      "------------\n",
      "Coping\n",
      "he tells me\n",
      "------------\n",
      "Power\n",
      "within me.\n",
      "------------\n",
      "Hanging Fire\n",
      "and my skin has betrayed me \n",
      "my room is too small for me \n",
      "tell the truth about me\n",
      "------------\n"
     ]
    }
   ],
   "source": [
    "line_ends_with('me')"
   ]
  },
  {
   "cell_type": "markdown",
   "metadata": {},
   "source": [
    "Question 9\n",
    "Print out **how many times the word was found in each text.** In this case, instead of the list comprehension, you want to run a re.findall() on the string of the text (not the list) and then count the number of elements in the list of results.\n",
    "\n",
    "Hint: use the original function at the beginning of this section, and make the proper adjustments to the variable \"result\""
   ]
  },
  {
   "cell_type": "code",
   "execution_count": 34,
   "metadata": {},
   "outputs": [],
   "source": [
    "#Write your function here\n",
    "def how_many_times(word):\n",
    "    my_regex = r\"\\b\" + word + r\"\\b\"\n",
    "    for text in all_texts:\n",
    "        result = len(re.findall(my_regex, text['text_as_string'], re.IGNORECASE))\n",
    "        print(text['title'])\n",
    "        print(f'The word \"{word}\" appears {result} times')\n",
    "        print(\"------------\")"
   ]
  },
  {
   "cell_type": "code",
   "execution_count": 35,
   "metadata": {},
   "outputs": [
    {
     "name": "stdout",
     "output_type": "stream",
     "text": [
      "Making Love to Concentrate\n",
      "The word \"the\" appears 11 times\n",
      "------------\n",
      "Never To Dream Of Spiders\n",
      "The word \"the\" appears 11 times\n",
      "------------\n",
      "Coping\n",
      "The word \"the\" appears 1 times\n",
      "------------\n",
      "Power\n",
      "The word \"the\" appears 16 times\n",
      "------------\n",
      "Hanging Fire\n",
      "The word \"the\" appears 10 times\n",
      "------------\n"
     ]
    }
   ],
   "source": [
    "how_many_times('the')"
   ]
  },
  {
   "cell_type": "markdown",
   "metadata": {},
   "source": [
    "Question 10\n",
    "Print out **the text that has the highest occurrence of the word** you searched for. This is similar to the last function, but here you need tracking variables like you had in Question 3.\n"
   ]
  },
  {
   "cell_type": "code",
   "execution_count": 36,
   "metadata": {},
   "outputs": [],
   "source": [
    "#Write your function here\n",
    "def text_with_most_occurance_of(word):\n",
    "    my_regex = r\"\\b\" + word + r\"\\b\"\n",
    "    occurrence = 0\n",
    "    poem_title = ''\n",
    "    for text in all_texts:\n",
    "        result = len(re.findall(my_regex, text['text_as_string'], re.IGNORECASE))\n",
    "        if result > occurrence:\n",
    "            occurrence = result\n",
    "            poem_title = text['title']\n",
    "    if occurrence == 0:\n",
    "        print(f'The word \"{word}\" does not appear in any of the poems')\n",
    "    elif occurrence == 1:\n",
    "        print(f'The word \"{word}\" appears the most times in the poem: {poem_title} ({occurrence} time)')\n",
    "    else:\n",
    "        print(f'The word \"{word}\" appears the most times in the poem: {poem_title} ({occurrence} time)')"
   ]
  },
  {
   "cell_type": "code",
   "execution_count": 37,
   "metadata": {},
   "outputs": [
    {
     "name": "stdout",
     "output_type": "stream",
     "text": [
      "The word \"death\" appears the most times in the poem: Never To Dream Of Spiders (1 time)\n"
     ]
    }
   ],
   "source": [
    "text_with_most_occurance_of('death')"
   ]
  },
  {
   "cell_type": "markdown",
   "metadata": {},
   "source": [
    "Question 11\n",
    "Print out **lines containing words of the length asked**. We are sort of back to basics here, you just need to modify the regular expression of the first function (get_this_word(word)) so that it can take a number parameter for the length of characters in a word."
   ]
  },
  {
   "cell_type": "code",
   "execution_count": 38,
   "metadata": {},
   "outputs": [],
   "source": [
    "def lines_with_words_this_length(length):\n",
    "    my_regex = r\"\\b\\w{\" + length + r\"}\\b\"\n",
    "#     my_regex = r\"\\b\\w\\{\" + length + r\"\\}\\b\"\n",
    "    for text in all_texts:\n",
    "        result = [line for line in text['lines'] if re.search(my_regex, line, re.IGNORECASE)]\n",
    "        print(text['title'])\n",
    "        print('')\n",
    "        [print(line) for line in result]\n",
    "        print(\"------------\")"
   ]
  },
  {
   "cell_type": "code",
   "execution_count": 39,
   "metadata": {},
   "outputs": [
    {
     "name": "stdout",
     "output_type": "stream",
     "text": [
      "Making Love to Concentrate\n",
      "\n",
      "rat-a-tat-tat best intentions\n",
      "stuck in the particular\n",
      "and air raid drills in your nightmares\n",
      "a repeatable bridge\n",
      "------------\n",
      "Never To Dream Of Spiders\n",
      "\n",
      "in the breathless precision of silence\n",
      "a fine gold wire bejeweling war \n",
      "------------\n",
      "Coping\n",
      "\n",
      "------------\n",
      "Power\n",
      "\n",
      "The difference between poetry and rhetoric\n",
      "the difference between poetry and rhetoric\n",
      "------------\n",
      "Hanging Fire\n",
      "\n",
      "suppose I die before graduation \n",
      "------------\n"
     ]
    }
   ],
   "source": [
    "lines_with_words_this_length('10')"
   ]
  },
  {
   "cell_type": "markdown",
   "metadata": {
    "collapsed": true
   },
   "source": [
    "**Final question:** in this cell, describe two functions that you would like to write, not ones that you're able to write, but ones you think would be useful or interesting or fun. If you feel like trying to write it, go-ahead!"
   ]
  },
  {
   "cell_type": "code",
   "execution_count": 40,
   "metadata": {},
   "outputs": [],
   "source": [
    "# Function 1 - Find lines where a word is repeated more than once"
   ]
  },
  {
   "cell_type": "code",
   "execution_count": 41,
   "metadata": {},
   "outputs": [],
   "source": [
    "# Function 2 - Find lines where a word is repeated consecutively "
   ]
  },
  {
   "cell_type": "markdown",
   "metadata": {
    "collapsed": true
   },
   "source": [
    "**Bonus question:** Write a function that counts word frequency: that is, it returns a dictionary with each unique word and its count, sorted by the most frequent. Note, this is highly stack-overflowable -- Python has some built in ways of doing this. If you're doing this, you might as well try to do it on your own. But it's up to you!"
   ]
  },
  {
   "cell_type": "code",
   "execution_count": 42,
   "metadata": {},
   "outputs": [],
   "source": [
    "def word_count():\n",
    "    my_regex = r\"\\b\\w+\\b\"\n",
    "    count = 0\n",
    "    for text in all_texts:\n",
    "        count = len(re.findall(my_regex, text['text_as_string'], re.IGNORECASE))\n",
    "        print(text['title'])\n",
    "        print(count)\n",
    "        print(\"------------\")"
   ]
  },
  {
   "cell_type": "code",
   "execution_count": 43,
   "metadata": {},
   "outputs": [
    {
     "name": "stdout",
     "output_type": "stream",
     "text": [
      "Making Love to Concentrate\n",
      "204\n",
      "------------\n",
      "Never To Dream Of Spiders\n",
      "154\n",
      "------------\n",
      "Coping\n",
      "57\n",
      "------------\n",
      "Power\n",
      "377\n",
      "------------\n",
      "Hanging Fire\n",
      "164\n",
      "------------\n"
     ]
    }
   ],
   "source": [
    "word_count()"
   ]
  }
 ],
 "metadata": {
  "kernelspec": {
   "display_name": "Python 3",
   "language": "python",
   "name": "python3"
  },
  "language_info": {
   "codemirror_mode": {
    "name": "ipython",
    "version": 3
   },
   "file_extension": ".py",
   "mimetype": "text/x-python",
   "name": "python",
   "nbconvert_exporter": "python",
   "pygments_lexer": "ipython3",
   "version": "3.6.5"
  }
 },
 "nbformat": 4,
 "nbformat_minor": 2
}
