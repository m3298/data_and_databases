{
 "cells": [
  {
   "cell_type": "markdown",
   "metadata": {},
   "source": [
    "# Homework 2: SQL in Python (Data and Databases 2019)\n",
    "\n",
    "The next four homework assignments will be in this iPython notebook format. Read the instructions as you go, and type in the necessary code--then run the cells to see if you got it right. Don't worry if you are new to python for this assignment--the only \"code\" you will be writing are SQL statements that you will paste into each myquery variable.\n",
    "\n",
    "\n",
    "## The Challenges\n",
    "\n",
    "For this homework we will be using the tables we imported from the [UN data site](http://data.un.org/Explorer.aspx). You should already have `wind` and `solar` installed. As you will see, this homework asks that you find one more table of your choice from the UN's Energy statistics an import it into the the same database. [I have posted the instructions here](http://floatingmedia.com/columbia/csv_to_sql.html)\n",
    "\n",
    "These are relatively simple CSV files--the only really important columns are `country`, `year` and `usage`. But the tricky part is that most countries have multiple entries: one for every year the UN has been gathering data on that country. So most of these queries are going to ask you to get electrical usage results based on country and year. (Major hint: JOINs are going to need to be based on country AND year.)\n",
    "\n",
    "In the questions below, we focus on exploratory queries--with an emphasis on aggregates and joins. Read the questions carefully, and then write SQL statements that will get you the correct results. (You will want to explore tables and test out queries directly in the shell before you paste them into Python--the error handling for SQL in Python can be confusing, and there should be no errors in the prewritten Python parts of this document. Also, sometimes an error in Python will break your connection with the database--see conn.rollback() below for that solution.\n"
   ]
  },
  {
   "cell_type": "markdown",
   "metadata": {},
   "source": [
    "First things first: Connect to database! \n",
    "(Make sure the cell is selected, then go to the cell menubar and choose \"Run Cells\")"
   ]
  },
  {
   "cell_type": "code",
   "execution_count": 1,
   "metadata": {},
   "outputs": [
    {
     "name": "stdout",
     "output_type": "stream",
     "text": [
      "<class 'pg8000.core.Connection'>\n"
     ]
    }
   ],
   "source": [
    "import pg8000\n",
    "conn = pg8000.connect(database=\"unenergy2019\",user=\"minami\")\n",
    "#conn = pg8000.connect(database=\"undata\")\n",
    "print(type(conn))"
   ]
  },
  {
   "cell_type": "markdown",
   "metadata": {},
   "source": [
    "If the connection isn't working make sure that you have typed in the name of the database correctly, and your username as well. \n",
    "\n",
    "If you get an error when running one of the SQL cells below, run this conn.rollback() cell to restart your connection."
   ]
  },
  {
   "cell_type": "code",
   "execution_count": 2,
   "metadata": {},
   "outputs": [],
   "source": [
    "conn.rollback()"
   ]
  },
  {
   "cell_type": "markdown",
   "metadata": {},
   "source": [
    "## Question 1: Simple(ish) Query \n",
    "\n",
    "Create a statement that searches for the top 15 countries for solar energy usage in 2014. So figure out first what table you are searching and what columns you need (you can figure out the columns by looking at the sample results below). Then you need to test by year so you only get results from 2014, and order it correctly.\n",
    "\n",
    "```\n",
    "Germany 36056.0 mil\n",
    "United States 25764.0 mil\n",
    "Japan 22952.0 mil\n",
    "Italy 22306.0 mil\n",
    "China 15189.0 mil\n",
    "Spain 13673.0 mil\n",
    "France 5913.0 mil\n",
    "India 5020.0 mil\n",
    "United Kingdom 4054.0 mil\n",
    "Australia 4010.0 mil\n",
    "Greece 3792.0 mil\n",
    "Belgium 2883.0 mil\n",
    "Korea, Republic of 2557.0 mil\n",
    "Czechia 2123.0 mil\n",
    "Canada 2120.0 mil\n",
    "```"
   ]
  },
  {
   "cell_type": "code",
   "execution_count": 3,
   "metadata": {},
   "outputs": [
    {
     "name": "stdout",
     "output_type": "stream",
     "text": [
      "Germany 36056.0 mil\n",
      "United States 25764.0 mil\n",
      "Japan 22952.0 mil\n",
      "Italy 22306.0 mil\n",
      "China 15189.0 mil\n",
      "Spain 13673.0 mil\n",
      "France 5913.0 mil\n",
      "India 5020.0 mil\n",
      "United Kingdom 4054.0 mil\n",
      "Australia 4010.0 mil\n",
      "Greece 3792.0 mil\n",
      "Belgium 2883.0 mil\n",
      "Korea, Republic of 2557.0 mil\n",
      "Czechia 2123.0 mil\n",
      "Canada 2120.0 mil\n"
     ]
    }
   ],
   "source": [
    "cursor = conn.cursor()\n",
    "myquery = '''\n",
    "SELECT country, usage FROM solar \n",
    "WHERE year = 2014 \n",
    "ORDER BY usage DESC NULLS LAST \n",
    "LIMIT 15\n",
    "'''\n",
    "cursor.execute(myquery)\n",
    "for row in cursor:\n",
    "    print(row[0], row[1], \"mil\")"
   ]
  },
  {
   "cell_type": "markdown",
   "metadata": {},
   "source": [
    "## Question 2: aggregate query\n",
    "\n",
    "Using avg(), get the average solar energy usage for each country, and it display only the countries with an average that is above 500 (million). (Remember for aggregates you need to use HAVING to test values, instead of WHERE). Make sure it is properly ordered like the results below, and wrap your avg column in round() to get round numbers:\n",
    "\n",
    "```\n",
    "20251.0 China\n",
    "8482.0 Germany\n",
    "7018.0 India\n",
    "6254.0 United States\n",
    "5604.0 Japan\n",
    "4508.0 Italy\n",
    "3423.0 Spain\n",
    "1651.0 South Africa\n",
    "1439.0 France\n",
    "1431.0 United Kingdom\n",
    "1369.0 Greece\n",
    "1237.0 Czechia\n",
    "1212.0 Belgium\n",
    "991.0 Australia\n",
    "884.0 Thailand\n",
    "789.0 Bulgaria\n",
    "731.0 Chile\n",
    "649.0 Honduras\n",
    "633.0 Korea, Republic of\n",
    "585.0 Romania\n",
    "581.0 Israel\n",
    "```"
   ]
  },
  {
   "cell_type": "code",
   "execution_count": 4,
   "metadata": {},
   "outputs": [
    {
     "name": "stdout",
     "output_type": "stream",
     "text": [
      "China 20251.0\n",
      "Germany 8482.0\n",
      "India 7018.0\n",
      "United States 6254.0\n",
      "Japan 5604.0\n",
      "Italy 4508.0\n",
      "Spain 3423.0\n",
      "South Africa 1651.0\n",
      "France 1439.0\n",
      "United Kingdom 1431.0\n",
      "Greece 1369.0\n",
      "Czechia 1237.0\n",
      "Belgium 1212.0\n",
      "Australia 991.0\n",
      "Thailand 884.0\n",
      "Bulgaria 789.0\n",
      "Chile 731.0\n",
      "Honduras 649.0\n",
      "Korea, Republic of 633.0\n",
      "Romania 585.0\n",
      "Israel 581.0\n"
     ]
    }
   ],
   "source": [
    "cursor = conn.cursor()\n",
    "myquery = '''\n",
    "SELECT country, ROUND(AVG(usage)) as avg_usage FROM solar\n",
    "GROUP BY country\n",
    "HAVING AVG(usage) > 500\n",
    "ORDER BY AVG(usage) DESC\n",
    "'''\n",
    "\n",
    "cursor.execute(myquery)\n",
    "for row in cursor:\n",
    "    print(row[0],row[1])"
   ]
  },
  {
   "cell_type": "markdown",
   "metadata": {},
   "source": [
    "## Question 3: aggregate query 2\n",
    "\n",
    "Get a list of countries whose Solar Energy data first started being collected in 2012. This is tricky to figure out, but the query should be pretty simple. The main thing you need to figure out is which aggregate function will find the earliest date, and then you need to test if year is 2012. And make it alphabetical by country.\n",
    "\n",
    "\n",
    "```\n",
    "2012 American Samoa\n",
    "2012 Botswana\n",
    "2012 Gabon\n",
    "2012 Lao People's Dem. Rep.\n",
    "2012 Lithuania\n",
    "2012 Marshall Islands\n",
    "2012 Mauritius\n",
    "2012 Poland\n",
    "2012 South Sudan\n",
    "2012 St. Helena and Depend.\n",
    "2012 St. Kitts-Nevis\n",
    "2012 United Arab Emirates\n",
    "2012 Venezuela (Bolivar. Rep.)\n",
    "```\n"
   ]
  },
  {
   "cell_type": "code",
   "execution_count": 5,
   "metadata": {
    "scrolled": true
   },
   "outputs": [
    {
     "name": "stdout",
     "output_type": "stream",
     "text": [
      "American Samoa 2012\n",
      "Botswana 2012\n",
      "Gabon 2012\n",
      "Lao People's Dem. Rep. 2012\n",
      "Lithuania 2012\n",
      "Marshall Islands 2012\n",
      "Mauritius 2012\n",
      "Poland 2012\n",
      "South Sudan 2012\n",
      "St. Helena and Depend. 2012\n",
      "St. Kitts-Nevis 2012\n",
      "United Arab Emirates 2012\n",
      "Venezuela (Bolivar. Rep.) 2012\n"
     ]
    }
   ],
   "source": [
    "cursor = conn.cursor()\n",
    "myquery = '''\n",
    "SELECT country, MIN(year) FROM solar\n",
    "GROUP BY country\n",
    "HAVING MIN(year) = 2012\n",
    "ORDER BY country\n",
    "'''\n",
    "cursor.execute(myquery)\n",
    "for row in cursor:\n",
    "    print(row[0], row[1])"
   ]
  },
  {
   "cell_type": "markdown",
   "metadata": {},
   "source": [
    "## Question 4: JOIN\n",
    "\n",
    "Get the usage of solar AND wind power for Germany for each year in the tables. There should be four columns total, and you will be joining on two criteria.\n",
    "\n",
    "(Please note that in the results below I am using Python to add in the strings \"solar:\" and \"wind:\")\n",
    "\n",
    "```\n",
    "Germany 1991 \twind: 215.0 \tsolar 1.0\n",
    "Germany 1992 \twind: 291.0 \tsolar 4.0\n",
    "Germany 1993 \twind: 674.0 \tsolar 3.0\n",
    "Germany 1994 \twind: 1428.0 \tsolar 7.0\n",
    "Germany 1995 \twind: 1712.0 \tsolar 7.0\n",
    "Germany 1996 \twind: 2078.0 \tsolar 12.0\n",
    "Germany 1997 \twind: 3034.0 \tsolar 18.0\n",
    "Germany 1998 \twind: 4593.0 \tsolar 35.0\n",
    "Germany 1999 \twind: 5528.0 \tsolar 30.0\n",
    "Germany 2000 \twind: 9352.0 \tsolar 60.0\n",
    "Germany 2001 \twind: 10456.0 \tsolar 116.0\n",
    "Germany 2002 \twind: 15856.0 \tsolar 188.0\n",
    "Germany 2003 \twind: 18713.0 \tsolar 313.0\n",
    "Germany 2004 \twind: 25509.0 \tsolar 557.0\n",
    "Germany 2005 \twind: 27229.0 \tsolar 1282.0\n",
    "Germany 2006 \twind: 30710.0 \tsolar 2220.0\n",
    "Germany 2007 \twind: 39713.0 \tsolar 3075.0\n",
    "Germany 2008 \twind: 40574.0 \tsolar 4420.0\n",
    "Germany 2009 \twind: 38647.0 \tsolar 6584.0\n",
    "Germany 2010 \twind: 37793.0 \tsolar 11729.0\n",
    "Germany 2011 \twind: 48883.0 \tsolar 19599.0\n",
    "Germany 2012 \twind: 50670.0 \tsolar 26380.0\n",
    "Germany 2013 \twind: 51708.0 \tsolar 31010.0\n",
    "Germany 2014 \twind: 57357.0 \tsolar 36056.0\n",
    "Germany 2015 \twind: 79206.0 \tsolar 38726.0\n",
    "Germany 2016 \twind: 78598.0 \tsolar 38098.0\n",
    "```\n",
    "\n",
    "Hint: after the join you need to test that the country is Germany, then order by what?"
   ]
  },
  {
   "cell_type": "code",
   "execution_count": 6,
   "metadata": {},
   "outputs": [
    {
     "name": "stdout",
     "output_type": "stream",
     "text": [
      "Germany 1991 \twind: 215.0 \tsolar 1.0\n",
      "Germany 1992 \twind: 291.0 \tsolar 4.0\n",
      "Germany 1993 \twind: 674.0 \tsolar 3.0\n",
      "Germany 1994 \twind: 1428.0 \tsolar 7.0\n",
      "Germany 1995 \twind: 1712.0 \tsolar 7.0\n",
      "Germany 1996 \twind: 2078.0 \tsolar 12.0\n",
      "Germany 1997 \twind: 3034.0 \tsolar 18.0\n",
      "Germany 1998 \twind: 4593.0 \tsolar 35.0\n",
      "Germany 1999 \twind: 5528.0 \tsolar 30.0\n",
      "Germany 2000 \twind: 9352.0 \tsolar 60.0\n",
      "Germany 2001 \twind: 10456.0 \tsolar 116.0\n",
      "Germany 2002 \twind: 15856.0 \tsolar 188.0\n",
      "Germany 2003 \twind: 18713.0 \tsolar 313.0\n",
      "Germany 2004 \twind: 25509.0 \tsolar 557.0\n",
      "Germany 2005 \twind: 27229.0 \tsolar 1282.0\n",
      "Germany 2006 \twind: 30710.0 \tsolar 2220.0\n",
      "Germany 2007 \twind: 39713.0 \tsolar 3075.0\n",
      "Germany 2008 \twind: 40574.0 \tsolar 4420.0\n",
      "Germany 2009 \twind: 38647.0 \tsolar 6584.0\n",
      "Germany 2010 \twind: 37793.0 \tsolar 11729.0\n",
      "Germany 2011 \twind: 48883.0 \tsolar 19599.0\n",
      "Germany 2012 \twind: 50670.0 \tsolar 26380.0\n",
      "Germany 2013 \twind: 51708.0 \tsolar 31010.0\n",
      "Germany 2014 \twind: 57357.0 \tsolar 36056.0\n",
      "Germany 2015 \twind: 79206.0 \tsolar 38726.0\n",
      "Germany 2016 \twind: 78598.0 \tsolar 38098.0\n"
     ]
    }
   ],
   "source": [
    "cursor = conn.cursor()\n",
    "myquery = '''\n",
    "SELECT solar.country, solar.year, wind.usage AS wind_usage, solar.usage AS solar_usage\n",
    "FROM solar\n",
    "JOIN wind ON solar.country = wind.country AND solar.year = wind.year\n",
    "WHERE solar.country = 'Germany'\n",
    "ORDER BY year\n",
    "'''\n",
    "cursor.execute(myquery)\n",
    "for row in cursor:\n",
    "    print(row[0],row[1],\"\\twind:\",row[2],\"\\tsolar\",row[3])"
   ]
  },
  {
   "cell_type": "markdown",
   "metadata": {},
   "source": [
    "## Question 5: join with aggregates\n",
    "\n",
    "Get the average wind usage and solar usage for each country. Order your results by average solar usage, and show only the top ten countries.\n",
    "\n",
    "```\n",
    "China wind: 125453.67 \tsolar: 20251.33\n",
    "Germany wind: 26174.12 \tsolar: 8481.92\n",
    "India wind: 31553.75 \tsolar: 7017.50\n",
    "United States wind: 52771.48 \tsolar: 6254.37\n",
    "Japan wind: 1906.48 \tsolar: 5604.00\n",
    "Italy wind: 4556.04 \tsolar: 4507.56\n",
    "Spain wind: 20005.67 \tsolar: 3423.07\n",
    "South Africa wind: 1827.50 \tsolar: 1651.25\n",
    "France wind: 5877.04 \tsolar: 1439.13\n",
    "United Kingdom wind: 12232.22 \tsolar: 1430.72\n",
    "```"
   ]
  },
  {
   "cell_type": "code",
   "execution_count": 7,
   "metadata": {},
   "outputs": [
    {
     "name": "stdout",
     "output_type": "stream",
     "text": [
      "China wind: 107072.56 \tsolar: 20251.33\n",
      "Germany wind: 26174.12 \tsolar: 8481.92\n",
      "India wind: 10165.74 \tsolar: 7017.50\n",
      "United States wind: 52771.48 \tsolar: 6254.37\n",
      "Japan wind: 1906.48 \tsolar: 5604.00\n",
      "Italy wind: 4556.04 \tsolar: 4507.56\n",
      "Spain wind: 20005.67 \tsolar: 3423.07\n",
      "South Africa wind: 1059.71 \tsolar: 1651.25\n",
      "France wind: 5632.25 \tsolar: 1439.13\n",
      "United Kingdom wind: 8267.52 \tsolar: 1430.72\n"
     ]
    }
   ],
   "source": [
    "cursor = conn.cursor()\n",
    "myquery = '''\n",
    "SELECT \n",
    "solar.country, AVG(wind.usage) avg_wind_usage, AVG(solar.usage) avg_solar_usage \n",
    "FROM solar\n",
    "JOIN wind ON solar.country = wind.country\n",
    "GROUP BY solar.country\n",
    "ORDER BY AVG(solar.usage) DESC\n",
    "LIMIT 10\n",
    "'''\n",
    "cursor.execute(myquery)\n",
    "for row in cursor:\n",
    "    print(row[0],\"wind:\",\"%.2f\" % row[1],\"\\tsolar:\",\"%.2f\" % row[2])"
   ]
  },
  {
   "cell_type": "markdown",
   "metadata": {},
   "source": [
    "## Question 6: same thing but slightly more complicated\n",
    "\n",
    "Get the average wind usage and solar usage for each country, FROM 2010 TO THE PRESENT. Order your results by average solar usage, and show only the top ten countries.\n",
    "\n",
    "```\n",
    "China wind: 180028.00 \tsolar: 30278.75\n",
    "Germany wind: 57745.00 \tsolar: 28799.71\n",
    "United States wind: 161998.86 \tsolar: 21129.57\n",
    "Japan wind: 5059.00 \tsolar: 19511.57\n",
    "Italy wind: 13571.00 \tsolar: 17215.00\n",
    "Spain wind: 48935.86 \tsolar: 11833.14\n",
    "India wind: 31553.75 \tsolar: 7017.50\n",
    "France wind: 16120.14 \tsolar: 4683.43\n",
    "United Kingdom wind: 26305.14 \tsolar: 3667.00\n",
    "Australia wind: 8569.29 \tsolar: 3260.29\n",
    "```"
   ]
  },
  {
   "cell_type": "code",
   "execution_count": 8,
   "metadata": {
    "scrolled": true
   },
   "outputs": [
    {
     "name": "stdout",
     "output_type": "stream",
     "text": [
      "China wind: 133006.14 \tsolar: 30278.75\n",
      "Germany wind: 57745.00 \tsolar: 28799.71\n",
      "United States wind: 161998.86 \tsolar: 21129.57\n",
      "Japan wind: 5059.00 \tsolar: 19511.57\n",
      "Italy wind: 13571.00 \tsolar: 17215.00\n",
      "Spain wind: 48935.86 \tsolar: 11833.14\n",
      "India wind: 28095.43 \tsolar: 7017.50\n",
      "France wind: 16120.14 \tsolar: 4683.43\n",
      "United Kingdom wind: 26305.14 \tsolar: 3667.00\n",
      "Australia wind: 8569.29 \tsolar: 3260.29\n",
      "Greece wind: 3924.86 \tsolar: 2533.14\n",
      "Korea, Republic of wind: 1131.00 \tsolar: 2293.14\n",
      "Belgium wind: 3663.57 \tsolar: 2220.43\n",
      "Czechia wind: 453.71 \tsolar: 1928.29\n",
      "South Africa wind: 1059.71 \tsolar: 1651.25\n",
      "Canada wind: 18276.29 \tsolar: 1607.57\n",
      "Thailand wind: 204.71 \tsolar: 1261.57\n",
      "Bulgaria wind: 1192.14 \tsolar: 901.71\n",
      "Romania wind: 4101.14 \tsolar: 835.29\n",
      "Chile wind: 1091.43 \tsolar: 731.33\n",
      "Israel wind: 6.67 \tsolar: 660.57\n",
      "Honduras wind: 400.33 \tsolar: 649.00\n",
      "Switzerland wind: 86.43 \tsolar: 622.29\n",
      "Netherlands wind: 5888.57 \tsolar: 620.00\n",
      "Other Asia wind: 1432.56 \tsolar: 615.20\n",
      "Austria wind: 3362.29 \tsolar: 571.43\n",
      "Portugal wind: 10972.71 \tsolar: 515.43\n",
      "Slovakia wind: 5.86 \tsolar: 437.43\n",
      "Turkey wind: 8106.43 \tsolar: 418.00\n",
      "Denmark wind: 11281.43 \tsolar: 369.57\n",
      "Ukraine wind: 605.00 \tsolar: 333.00\n",
      "Russian Federation wind: 58.71 \tsolar: 319.00\n",
      "Philippines wind: 407.58 \tsolar: 307.27\n",
      "Jordan wind: 75.50 \tsolar: 246.30\n",
      "Egypt wind: 1494.57 \tsolar: 243.43\n",
      "Morocco wind: 1554.00 \tsolar: 203.50\n",
      "Brazil wind: 15776.12 \tsolar: 199.80\n",
      "Réunion wind: 16.00 \tsolar: 196.04\n",
      "Slovenia wind: 2.86 \tsolar: 179.14\n",
      "Bangladesh wind: 4.25 \tsolar: 150.00\n",
      "Mexico wind: 5187.00 \tsolar: 138.00\n",
      "Guatemala wind: 180.14 \tsolar: 136.59\n",
      "Peru wind: 274.37 \tsolar: 132.37\n",
      "Guadeloupe wind: 50.50 \tsolar: 77.01\n",
      "Martinique wind: 1.50 \tsolar: 65.57\n",
      "Luxembourg wind: 80.29 \tsolar: 65.43\n",
      "Cyprus wind: 170.00 \tsolar: 63.43\n",
      "Hungary wind: 668.86 \tsolar: 59.29\n",
      "Puerto Rico wind: 129.21 \tsolar: 56.54\n",
      "Lithuania wind: 632.43 \tsolar: 51.80\n",
      "Sweden wind: 9938.29 \tsolar: 51.57\n",
      "Algeria wind: 19.00 \tsolar: 42.33\n",
      "Guam wind: 0.50 \tsolar: 41.57\n",
      "Uruguay wind: 890.67 \tsolar: 41.16\n",
      "Dominican Republic wind: 199.90 \tsolar: 39.27\n",
      "Poland wind: 6677.43 \tsolar: 38.00\n",
      "Kazakhstan wind: 85.40 \tsolar: 34.35\n",
      "Sri Lanka wind: 212.82 \tsolar: 33.61\n",
      "Curaçao wind: 65.60 \tsolar: 32.00\n",
      "Panama wind: 386.67 \tsolar: 29.67\n",
      "Mauritania wind: 60.20 \tsolar: 26.67\n",
      "Croatia wind: 532.29 \tsolar: 24.43\n",
      "Tunisia wind: 318.71 \tsolar: 20.82\n",
      "New Zealand wind: 2081.43 \tsolar: 17.57\n",
      "Mauritius wind: 3.13 \tsolar: 16.88\n",
      "Ecuador wind: 57.52 \tsolar: 15.89\n",
      "Jamaica wind: 114.59 \tsolar: 13.00\n",
      "Belarus wind: 18.29 \tsolar: 12.33\n",
      "T.F.Yug.Rep. Macedonia wind: 100.29 \tsolar: 12.29\n",
      "Azerbaijan wind: 6.40 \tsolar: 11.00\n",
      "Argentina wind: 378.14 \tsolar: 10.01\n",
      "Serbia wind: 26.00 \tsolar: 9.67\n",
      "Bahrain wind: 1.00 \tsolar: 9.00\n",
      "New Caledonia wind: 51.95 \tsolar: 8.39\n",
      "Finland wind: 1220.71 \tsolar: 8.00\n",
      "Samoa wind: 0.20 \tsolar: 6.43\n",
      "Cabo Verde wind: 53.68 \tsolar: 6.09\n",
      "Bolivia (Plur. State of) wind: 14.00 \tsolar: 5.71\n",
      "Venezuela (Bolivar. Rep.) wind: 93.34 \tsolar: 4.91\n",
      "Indonesia wind: 4.28 \tsolar: 4.43\n",
      "Seychelles wind: 7.26 \tsolar: 4.24\n",
      "Tonga wind: 0.01 \tsolar: 3.12\n",
      "St. Kitts-Nevis wind: 7.29 \tsolar: 1.84\n",
      "Costa Rica wind: 678.24 \tsolar: 1.70\n",
      "Republic of Moldova wind: 1.40 \tsolar: 1.67\n",
      "Ireland wind: 4801.29 \tsolar: 1.67\n",
      "Nepal wind: 6.00 \tsolar: 1.00\n",
      "Iran (Islamic Rep. of) wind: 231.43 \tsolar: 0.74\n",
      "Armenia wind: 4.00 \tsolar: 0.67\n",
      "Vanuatu wind: 4.30 \tsolar: 0.62\n",
      "Saudi Arabia wind: 3.56 \tsolar: 0.54\n",
      "British Virgin Islands wind: 1.05 \tsolar: 0.39\n",
      "St. Helena and Depend. wind: 1.36 \tsolar: 0.20\n"
     ]
    }
   ],
   "source": [
    "cursor = conn.cursor()\n",
    "myquery = '''\n",
    "SELECT solar.country, AVG(wind.usage), AVG(solar.usage) FROM solar\n",
    "JOIN wind ON solar.country = wind.country\n",
    "WHERE solar.year > 2009 AND wind.year > 2009\n",
    "GROUP BY solar.country\n",
    "ORDER BY AVG(solar.usage) DESC\n",
    "'''\n",
    "cursor.execute(myquery)\n",
    "for row in cursor:\n",
    "    print(row[0],\"wind:\",\"%.2f\" % row[1],\"\\tsolar:\",\"%.2f\" % row[2])"
   ]
  },
  {
   "cell_type": "markdown",
   "metadata": {},
   "source": [
    "## Question 7: Building a basic timeseries\n",
    "\n",
    "Step one: get a list of the first year of data and the most recent year of data for each country from the solar table. Limit the results to the first 15 with the oldest year and then in alphabetical order.\n",
    "\n",
    "```\n",
    "Italy 1990 -- 2016\n",
    "Japan 1990 -- 2016\n",
    "Korea, Republic of 1990 -- 2016\n",
    "Mexico 1990 -- 2016\n",
    "Portugal 1990 -- 2016\n",
    "Spain 1990 -- 2016\n",
    "Switzerland 1990 -- 2016\n",
    "United States 1990 -- 2016\n",
    "Finland 1991 -- 2016\n",
    "Germany 1991 -- 2016\n",
    "Netherlands 1991 -- 2016\n",
    "Canada 1992 -- 2016\n",
    "Australia 1993 -- 2016\n",
    "Austria 1993 -- 2016\n",
    "Sweden 1993 -- 2016\n",
    "```"
   ]
  },
  {
   "cell_type": "code",
   "execution_count": 9,
   "metadata": {
    "scrolled": true
   },
   "outputs": [
    {
     "name": "stdout",
     "output_type": "stream",
     "text": [
      "Italy 1990 -- 2016\n",
      "Japan 1990 -- 2016\n",
      "Korea, Republic of 1990 -- 2016\n",
      "Mexico 1990 -- 2016\n",
      "Portugal 1990 -- 2016\n",
      "Spain 1990 -- 2016\n",
      "Switzerland 1990 -- 2016\n",
      "United States 1990 -- 2016\n",
      "Finland 1991 -- 2016\n",
      "Germany 1991 -- 2016\n",
      "Netherlands 1991 -- 2016\n",
      "Canada 1992 -- 2016\n",
      "Australia 1993 -- 2016\n",
      "Austria 1993 -- 2016\n",
      "Sweden 1993 -- 2016\n"
     ]
    }
   ],
   "source": [
    "cursor = conn.cursor()\n",
    "myquery = '''\n",
    "SELECT country, MIN(year), MAX(year) FROM solar\n",
    "GROUP BY country\n",
    "ORDER BY MIN(year), country\n",
    "LIMIT 15\n",
    "'''\n",
    "cursor.execute(myquery)\n",
    "for row in cursor:\n",
    "    print(row[0],row[1],\"--\",row[2])"
   ]
  },
  {
   "cell_type": "markdown",
   "metadata": {},
   "source": [
    "## Question 8: Building a basic timeseries\n",
    "\n",
    "Step two: Take that previous query, (order, limit and everything) and turn that into a subquery, and join the solar table on it twice, first to get the usage from the earliest date, next get the usage from the most recent date. Order it by the most usage from the most recent year.\n",
    "\n",
    "Note: to join at the same table twice, you need to alias the table (solar as sl1, solar as sl2). This is getting very challenging, so get as far as you can.\n",
    "\n",
    "```\n",
    "Japan 1990 -- 2016 usage change:  67.0 -- 50952.0\n",
    "United States 1990 -- 2016 usage change:  666.0 -- 50334.0\n",
    "Germany 1991 -- 2016 usage change:  1.0 -- 38098.0\n",
    "Italy 1990 -- 2016 usage change:  4.0 -- 22104.0\n",
    "Spain 1990 -- 2016 usage change:  6.0 -- 13649.0\n",
    "Australia 1993 -- 2016 usage change:  11.0 -- 6209.0\n",
    "Korea, Republic of 1990 -- 2016 usage change:  1.0 -- 5123.0\n",
    "Canada 1992 -- 2016 usage change:  2.0 -- 3031.0\n",
    "Netherlands 1991 -- 2016 usage change:  1.0 -- 1560.0\n",
    "Switzerland 1990 -- 2016 usage change:  1.0 -- 1333.0\n",
    "Austria 1993 -- 2016 usage change:  1.0 -- 1096.0\n",
    "Portugal 1990 -- 2016 usage change:  1.0 -- 822.0\n",
    "Mexico 1990 -- 2016 usage change:  1.0 -- 252.0\n",
    "Sweden 1993 -- 2016 usage change:  1.0 -- 143.0\n",
    "Finland 1991 -- 2016 usage change:  1.0 -- 17.0\n",
    "```"
   ]
  },
  {
   "cell_type": "code",
   "execution_count": 16,
   "metadata": {
    "scrolled": true
   },
   "outputs": [
    {
     "name": "stdout",
     "output_type": "stream",
     "text": [
      "Japan 1990 -- 2016 usage change:  67.0 -- 50952.0\n",
      "United States 1990 -- 2016 usage change:  666.0 -- 50334.0\n",
      "Germany 1991 -- 2016 usage change:  1.0 -- 38098.0\n",
      "Italy 1990 -- 2016 usage change:  4.0 -- 22104.0\n",
      "Spain 1990 -- 2016 usage change:  6.0 -- 13649.0\n",
      "Australia 1993 -- 2016 usage change:  11.0 -- 6209.0\n",
      "Korea, Republic of 1990 -- 2016 usage change:  1.0 -- 5123.0\n",
      "Canada 1992 -- 2016 usage change:  2.0 -- 3031.0\n",
      "Netherlands 1991 -- 2016 usage change:  1.0 -- 1560.0\n",
      "Switzerland 1990 -- 2016 usage change:  1.0 -- 1333.0\n",
      "Austria 1993 -- 2016 usage change:  1.0 -- 1096.0\n",
      "Portugal 1990 -- 2016 usage change:  1.0 -- 822.0\n",
      "Mexico 1990 -- 2016 usage change:  1.0 -- 252.0\n",
      "Sweden 1993 -- 2016 usage change:  1.0 -- 143.0\n",
      "Finland 1991 -- 2016 usage change:  1.0 -- 17.0\n"
     ]
    }
   ],
   "source": [
    "# conn.rollback()\n",
    "\n",
    "cursor = conn.cursor()\n",
    "myquery = '''\n",
    "WITH mm_tbl AS (\n",
    "SELECT country, MIN(year) as min_yr, MAX(year) as max_yr\n",
    "FROM solar\n",
    "GROUP BY country\n",
    "ORDER BY MIN(year), country\n",
    "LIMIT 15\n",
    ")\n",
    "SELECT mm_tbl.country, mm_tbl.min_yr, mm_tbl.max_yr, solar1.usage min_usage, solar2.usage max_usage\n",
    "FROM mm_tbl\n",
    "JOIN solar as solar1 ON solar1.year = mm_tbl.min_yr AND solar1.country = mm_tbl.country\n",
    "JOIN solar as solar2 ON solar2.year = mm_tbl.max_yr AND solar2.country = mm_tbl.country\n",
    "ORDER BY max_usage DESC\n",
    "'''\n",
    "cursor.execute(myquery)\n",
    "for row in cursor:\n",
    "    print(row[0],row[1],\"--\",row[2],\"usage change: \", row[3],\"--\",row[4])"
   ]
  },
  {
   "cell_type": "markdown",
   "metadata": {},
   "source": [
    "## Question 9: join with aggregates, new data\n",
    "\n",
    "Your final task: go back to the [UN data site](http://data.un.org/Explorer.aspx) and download another table of your choice from the energy statistics. [Full instructions here.](http://floatingmedia.com/columbia/csv_to_sql.html) Choose a table that has similar columns to the wind and energy tables, and input it into your database.  Make sure you test that everything is working in the shell before going back to Python.\n",
    "\n",
    "Now, write a query that joins the third table to the query you made in Question 5. Get the average use for each Energy type: Solar, Wind, and the table you chose. Order it by the energy type you chose (that column should come first after the country). And display the top 10 countries by the average of the energy type that you added, along with the averages for solar and wind.\n"
   ]
  },
  {
   "cell_type": "code",
   "execution_count": 17,
   "metadata": {},
   "outputs": [
    {
     "name": "stdout",
     "output_type": "stream",
     "text": [
      "China 20251.33 107072.56 1714842.04\n",
      "Germany 8481.92 26174.12 553695.97\n",
      "India 7017.50 10165.74 1014142.39\n",
      "United States 6254.37 52771.48 6310825.60\n",
      "Japan 5604.00 1906.48 501830.62\n",
      "Italy 4507.56 4556.04 484336.80\n",
      "Spain 3423.07 20005.67 136683.47\n",
      "South Africa 1651.25 1059.71 272890.71\n",
      "France 1439.13 5632.25 251115.76\n",
      "United Kingdom 1430.72 8267.52 963477.50\n"
     ]
    }
   ],
   "source": [
    "cursor = conn.cursor()\n",
    "myquery = '''\n",
    "SELECT \n",
    "solar.country,\n",
    "AVG(solar.usage) avg_solar_usage,\n",
    "AVG(wind.usage) avg_wind_usage,\n",
    "AVG(natural_gas.usage) avg_natural_gas_usage\n",
    "FROM solar\n",
    "JOIN wind ON solar.country = wind.country\n",
    "JOIN natural_gas ON solar.country = natural_gas.country\n",
    "GROUP BY solar.country\n",
    "ORDER BY AVG(solar.usage) DESC\n",
    "LIMIT 10\n",
    "'''\n",
    "\n",
    "cursor.execute(myquery)\n",
    "for row in cursor:\n",
    "    print(row[0],\"%.2f\" % row[1],\"%.2f\" % row[2],\"%.2f\" % row[3])"
   ]
  },
  {
   "cell_type": "markdown",
   "metadata": {},
   "source": [
    "Great work! You're done."
   ]
  }
 ],
 "metadata": {
  "kernelspec": {
   "display_name": "Python 3",
   "language": "python",
   "name": "python3"
  },
  "language_info": {
   "codemirror_mode": {
    "name": "ipython",
    "version": 3
   },
   "file_extension": ".py",
   "mimetype": "text/x-python",
   "name": "python",
   "nbconvert_exporter": "python",
   "pygments_lexer": "ipython3",
   "version": "3.6.5"
  }
 },
 "nbformat": 4,
 "nbformat_minor": 1
}
