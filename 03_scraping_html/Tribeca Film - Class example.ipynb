{
 "cells": [
  {
   "cell_type": "code",
   "execution_count": 54,
   "metadata": {},
   "outputs": [],
   "source": [
    "import requests\n",
    "from bs4 import BeautifulSoup"
   ]
  },
  {
   "cell_type": "code",
   "execution_count": 55,
   "metadata": {},
   "outputs": [],
   "source": [
    "letter = 'a'\n",
    "num = '2'\n",
    "my_url = f\"https://www.tribecafilm.com/filmguide?{letter}=a&page={num}\"\n",
    "raw_html = requests.get(my_url).content"
   ]
  },
  {
   "cell_type": "code",
   "execution_count": 63,
   "metadata": {
    "scrolled": false
   },
   "outputs": [],
   "source": [
    "soup_doc = BeautifulSoup(raw_html, 'html.parser')\n",
    "# print(soup_doc.prettify())"
   ]
  },
  {
   "cell_type": "code",
   "execution_count": 57,
   "metadata": {},
   "outputs": [],
   "source": [
    "first_row = soup_doc.find_all('article')[0]"
   ]
  },
  {
   "cell_type": "code",
   "execution_count": 58,
   "metadata": {},
   "outputs": [],
   "source": [
    "this_film = {}\n",
    "film_info = first_row.find(class_='left')\n",
    "this_film['title'] = film_info.h1.string\n",
    "# film_info.find(class_='headerTags').find_all(strings=True)\n",
    "\n",
    "headers = film_info.find(class_='headerTags').find_all('a')\n",
    "\n",
    "head_list = []\n",
    "for head in headers:\n",
    "    head_list.append(head.string)\n",
    "\n",
    "this_film['headers'] = head_list"
   ]
  },
  {
   "cell_type": "code",
   "execution_count": 59,
   "metadata": {},
   "outputs": [
    {
     "data": {
      "text/plain": [
       "{'title': 'ANNE+', 'headers': ['TFF 2019']}"
      ]
     },
     "execution_count": 59,
     "metadata": {},
     "output_type": "execute_result"
    }
   ],
   "source": [
    "this_film"
   ]
  },
  {
   "cell_type": "code",
   "execution_count": 60,
   "metadata": {},
   "outputs": [],
   "source": [
    "all_rows = soup_doc.find_all('article')\n",
    "# all_rows"
   ]
  },
  {
   "cell_type": "code",
   "execution_count": 61,
   "metadata": {},
   "outputs": [],
   "source": [
    "all_films = []\n",
    "for my_row in all_rows:\n",
    "    this_film = {}\n",
    "    film_info = my_row.find(class_='left')\n",
    "    this_film['title'] = film_info.h1.string\n",
    "\n",
    "    headers = film_info.find(class_='headerTags').find_all('a')\n",
    "    head_list = []\n",
    "    for head in headers:\n",
    "        head_list.append(head.string)\n",
    "    this_film['headers'] = head_list\n",
    "    \n",
    "    all_films.append(this_film)"
   ]
  },
  {
   "cell_type": "code",
   "execution_count": 62,
   "metadata": {},
   "outputs": [
    {
     "data": {
      "text/plain": [
       "[{'title': 'ANNE+', 'headers': ['TFF 2019']},\n",
       " {'title': 'ANOTHER DREAM', 'headers': ['TFF 2019']},\n",
       " {'title': 'APOCALYPSE NOW FINAL CUT',\n",
       "  'headers': ['TFF 2019', 'Narrative', 'Feature']},\n",
       " {'title': 'THE APOLLO', 'headers': ['TFF 2019', 'Documentary', 'Feature']},\n",
       " {'title': 'ARMONIA', 'headers': ['TFF 2019']},\n",
       " {'title': 'ARTIFISHAL: THE ROAD TO EXTINCTION IS PAVED WITH GOOD INTENTIONS - TRIBECA X',\n",
       "  'headers': ['TFF 2019', 'Documentary', 'Feature']},\n",
       " {'title': \"ASHE '68\", 'headers': ['TFF 2019']},\n",
       " {'title': 'ASK DR RUTH', 'headers': ['TFF 2019', 'Documentary', 'Feature']},\n",
       " {'title': 'AT THE HEART OF GOLD',\n",
       "  'headers': ['TFF 2019', 'Documentary', 'Feature']},\n",
       " {'title': 'AWARD SCREENING: AUDIENCE AWARD - DOCUMENTARY FIRST PLACE - GAY CHORUS DEEP SOUTH',\n",
       "  'headers': ['TFF 2019', 'Documentary', 'Feature']}]"
      ]
     },
     "execution_count": 62,
     "metadata": {},
     "output_type": "execute_result"
    }
   ],
   "source": [
    "all_films"
   ]
  },
  {
   "cell_type": "code",
   "execution_count": null,
   "metadata": {},
   "outputs": [],
   "source": []
  }
 ],
 "metadata": {
  "kernelspec": {
   "display_name": "Python 3",
   "language": "python",
   "name": "python3"
  },
  "language_info": {
   "codemirror_mode": {
    "name": "ipython",
    "version": 3
   },
   "file_extension": ".py",
   "mimetype": "text/x-python",
   "name": "python",
   "nbconvert_exporter": "python",
   "pygments_lexer": "ipython3",
   "version": "3.6.5"
  }
 },
 "nbformat": 4,
 "nbformat_minor": 2
}
