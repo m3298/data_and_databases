{
 "cells": [
  {
   "cell_type": "markdown",
   "metadata": {},
   "source": [
    "## Homework 3 Part Two: Scraping\n",
    "This homework asks you to scrape from two different sources: Supreme Court Decisions and a more complicated version of Shakespeare (bonus). \n",
    "\n",
    "Again, please follow the instructions and do the best you can. Look at the tutorial for examples, as well as the Beautiful Soup documentation, and any other Python resource (such as Stack overflow). As you get further into this assignment a lot of the trick will be using loops properly and appending information into lists. One of the great ways to carefully use Beautiful Soup is to first use find() to find the first instance of something and search through it. And then use find_all() to get a list of results that you must then loop throughIn search within.\n",
    "\n",
    "Again, if you only get 70% of the stuff done that's great!"
   ]
  },
  {
   "cell_type": "code",
   "execution_count": 1,
   "metadata": {},
   "outputs": [],
   "source": [
    "import requests\n",
    "from bs4 import BeautifulSoup"
   ]
  },
  {
   "cell_type": "markdown",
   "metadata": {},
   "source": [
    "## Supreme Court Decisions 2018 \n",
    "Okay now it's time to scrape from reality. The Supreme Court posts its decisions in a format that is not particularly data friendly. They have a simple HTML table with some information about the decision, including a link to a PDF that contains the written decision. We won't mess with those PDFs this week, but we do want to transform their tables into something useful to us. \n",
    "\n",
    "We will be scraping this page: \n",
    "https://www.supremecourt.gov/opinions/slipopinion/18\n",
    "\n",
    "*Note:* While you won't see all of the tables for all the months when you go to the page, they are all there in the HTML that you will download and in the HTML source you view (which is the same thing). Definitely do a view source, and study the structure of the HTML tables before you start coding.\n",
    "\n",
    "You eventually want to end up with a list of lists (rows and then columns) for every decision from the 2018. Follow the process, and see how far you get.\n"
   ]
  },
  {
   "cell_type": "markdown",
   "metadata": {},
   "source": [
    "Once again, Write your lines that use requests to get the page, and a second variable that passes the raw HTML into Beautiful Soup for parsing. Include a third line that prints the HTML in the prettify() way."
   ]
  },
  {
   "cell_type": "code",
   "execution_count": 2,
   "metadata": {},
   "outputs": [],
   "source": [
    "my_url = 'https://www.supremecourt.gov/opinions/slipopinion/18'\n",
    "raw_html = requests.get(my_url).content\n",
    "soup_doc = BeautifulSoup(raw_html, 'html.parser')"
   ]
  },
  {
   "cell_type": "code",
   "execution_count": 3,
   "metadata": {},
   "outputs": [],
   "source": [
    "# print(soup_doc.prettify())"
   ]
  },
  {
   "cell_type": "markdown",
   "metadata": {},
   "source": [
    "Isolate the HTML row with the first row of information for the case Quarles v. United States (as of 6/10/19 that is the most recent case. These things can update though!)"
   ]
  },
  {
   "cell_type": "code",
   "execution_count": 4,
   "metadata": {},
   "outputs": [
    {
     "data": {
      "text/plain": [
       "<tr>\n",
       "<td style=\"text-align: center;\">51</td>\n",
       "<td style=\"text-align: center;\">6/10/19</td>\n",
       "<td style=\"text-align: center; white-space: nowrap;\">17-778</td>\n",
       "<td><a href=\"/opinions/18pdf/17-778_7li8.pdf\" target=\"_blank\" title=\"Michigan’s third-degree home-invasion statute substantially corresponds to or is narrower than generic burglary for purposes of qualifying for enhanced sentencing under the Armed Career Criminal Act.\">Quarles v. United States</a></td>\n",
       "<td style=\"text-align: center;\"> </td>\n",
       "<td style=\"text-align: center;\">BK</td>\n",
       "<td style=\"text-align: center;\">587/2</td>\n",
       "</tr>"
      ]
     },
     "execution_count": 4,
     "metadata": {},
     "output_type": "execute_result"
    }
   ],
   "source": [
    "first_row = soup_doc.find_all('tr')[2]\n",
    "first_row"
   ]
  },
  {
   "cell_type": "markdown",
   "metadata": {},
   "source": [
    "Print out each cell of information from that first row. Your output should look like this:\n",
    "\n",
    "\n",
    "```\n",
    "51\n",
    "6/10/19\n",
    "17-778\n",
    "Quarles v. United States\n",
    " \n",
    "BK\n",
    "587/2\n",
    "```"
   ]
  },
  {
   "cell_type": "code",
   "execution_count": 5,
   "metadata": {},
   "outputs": [
    {
     "name": "stdout",
     "output_type": "stream",
     "text": [
      "51\n",
      "6/10/19\n",
      "17-778\n",
      "Quarles v. United States\n",
      " \n",
      "BK\n",
      "587/2\n"
     ]
    }
   ],
   "source": [
    "first_row_html = first_row.find_all('td')\n",
    "for row in first_row_html:\n",
    "    print(row.string)"
   ]
  },
  {
   "cell_type": "code",
   "execution_count": 6,
   "metadata": {},
   "outputs": [],
   "source": [
    "# first_row = soup_doc.find_all('tr')[2].get_text('||', strip=True)\n",
    "# first_row_clean = first_row.split('||')\n",
    "# first_row_clean\n",
    "\n",
    "# for row in first_row_clean:\n",
    "#     print(row)"
   ]
  },
  {
   "cell_type": "markdown",
   "metadata": {},
   "source": [
    "But wait, there is more information hidden inside the tags! Really important information. Find it and print it out like this (still just for this first row):\n",
    "```\n",
    "/opinions/18pdf/17-778_7li8.pdf \n",
    " Michigan’s third-degree home-invasion statute substantially corresponds to or is narrower than generic burglary for purposes of qualifying for enhanced sentencing under the Armed Career Criminal Act.\n",
    " ```"
   ]
  },
  {
   "cell_type": "code",
   "execution_count": 7,
   "metadata": {},
   "outputs": [
    {
     "name": "stdout",
     "output_type": "stream",
     "text": [
      "/opinions/18pdf/17-778_7li8.pdf\n",
      "Michigan’s third-degree home-invasion statute substantially corresponds to or is narrower than generic burglary for purposes of qualifying for enhanced sentencing under the Armed Career Criminal Act.\n"
     ]
    }
   ],
   "source": [
    "first_row_attrs = first_row.a.attrs\n",
    "\n",
    "for attr in first_row_attrs.values():\n",
    "    if attr != '_blank':\n",
    "        print(attr)"
   ]
  },
  {
   "cell_type": "markdown",
   "metadata": {},
   "source": [
    "Okay, time to make this useful. Take the information you printed in the last two cells, and combine them all into a list. Output the list, it should look like this:\n",
    "```\n",
    "['51',\n",
    " '6/10/19',\n",
    " '17-778',\n",
    " 'Quarles v. United States',\n",
    " '\\xa0',\n",
    " 'BK',\n",
    " '587/2',\n",
    " '/opinions/18pdf/17-778_7li8.pdf',\n",
    " 'Michigan’s third-degree home-invasion statute substantially corresponds to or is narrower than generic burglary for purposes of qualifying for enhanced sentencing under the Armed Career Criminal Act.']\n",
    " ```\n",
    " "
   ]
  },
  {
   "cell_type": "code",
   "execution_count": 8,
   "metadata": {},
   "outputs": [
    {
     "data": {
      "text/plain": [
       "['51',\n",
       " '6/10/19',\n",
       " '17-778',\n",
       " 'Quarles v. United States',\n",
       " '\\xa0',\n",
       " 'BK',\n",
       " '587/2',\n",
       " '/opinions/18pdf/17-778_7li8.pdf',\n",
       " 'Michigan’s third-degree home-invasion statute substantially corresponds to or is narrower than generic burglary for purposes of qualifying for enhanced sentencing under the Armed Career Criminal Act.']"
      ]
     },
     "execution_count": 8,
     "metadata": {},
     "output_type": "execute_result"
    }
   ],
   "source": [
    "#Combine everything you have coded so far,\n",
    "#Including finding that first row in the table\n",
    "#It will be useful for later\n",
    "first_row_info = []\n",
    "\n",
    "first_row = soup_doc.find_all('tr')[2]\n",
    "first_row_html = first_row.find_all('td')\n",
    "first_row_attrs = first_row.a.attrs\n",
    "\n",
    "for row in first_row_html:\n",
    "    first_row_info.append(row.string)\n",
    "for attr in first_row_attrs.values():\n",
    "    if attr != '_blank':\n",
    "        first_row_info.append(attr)\n",
    "\n",
    "first_row_info"
   ]
  },
  {
   "cell_type": "markdown",
   "metadata": {},
   "source": [
    "Great! Now you want to go through all of the rows in that first table (but not the header), and get a list of lists with the information for every case in that row. Your output should look like this:\n",
    "\n",
    "```\n",
    "[['51',\n",
    "  '6/10/19',\n",
    "  '17-778',\n",
    "  'Quarles v. United States',\n",
    "  '\\xa0',\n",
    "  'BK',\n",
    "  '587/2',\n",
    "  '/opinions/18pdf/17-778_7li8.pdf',\n",
    "  'Michigan’s third-degree home-invasion statute substantially corresponds to or is narrower than generic burglary for purposes of qualifying for enhanced sentencing under the Armed Career Criminal Act.'],\n",
    " ['50',\n",
    "  '6/10/19',\n",
    "  '17-1594',\n",
    "  'Return Mail, Inc. v. Postal Service',\n",
    "  '\\xa0',\n",
    "  'SS',\n",
    "  '587/2',\n",
    "  '/opinions/18pdf/17-1594_1an2.pdf',\n",
    "  'The Federal Government is not a “person” capable of petitioning the Patent Trial and Appeal Board to institute patent review proceedings under the Leahy-Smith America Invents Act.'],\n",
    " ['49',\n",
    "  '6/10/19',\n",
    "  '18-389',\n",
    "  'Parker Drilling Management Services, Ltd. v. Newton',\n",
    "  '\\xa0',\n",
    "  'T',\n",
    "  '587/2',\n",
    "  '/opinions/18pdf/18-389_4g15.pdf',\n",
    "  'Under the Outer Continental Shelf Lands Act, where federal law addresses the relevant issue, state law is not adopted as surrogate federal law on the Outer Continental Shelf.'],\n",
    " ['48',\n",
    "  '6/03/19',\n",
    "  '17-1484',\n",
    "  'Azar v. Allina Health Services',\n",
    "  '\\xa0',\n",
    "  'NG',\n",
    "  '587/2',\n",
    "  '/opinions/18pdf/17-1484_4f57.pdf',\n",
    "  'Because the Department of Health and Human Services neglected its statutory notice-and-comment obligations when it revealed a new policy that dramatically—and retroactively—reduced Medicare payments to hospitals serving low-income patients, its policy must be vacated.'],\n",
    " ['47',\n",
    "  '6/03/19',\n",
    "  '18-489',\n",
    "  'Taggart v. Lorenzen',\n",
    "  '\\xa0',\n",
    "  'B',\n",
    "  '587/2',\n",
    "  '/opinions/18pdf/18-489_p8k0.pdf',\n",
    "  'A creditor may be held in civil contempt for violating a bankruptcy court’s discharge order if there is no fair ground of doubt as to whether the order barred the creditor’s conduct.'],\n",
    " ['46',\n",
    "  '6/03/19',\n",
    "  '18-525',\n",
    "  'Fort Bend County v. Davis',\n",
    "  '\\xa0',\n",
    "  'G',\n",
    "  '587/2',\n",
    "  '/opinions/18pdf/18-525_m6hn.pdf',\n",
    "  'The charge-filing precondition to suit set out in Title VII of the Civil Rights Act of 1964 is not a jurisdictional requirement.'],\n",
    " ['45',\n",
    "  '6/03/19',\n",
    "  '17-8995',\n",
    "  'Mont v. United States',\n",
    "  '6/03/19',\n",
    "  'T',\n",
    "  '587/2',\n",
    "  '/opinions/18pdf/17-8995_new_097c.pdf',\n",
    "  'Pretrial detention later credited as time served for a new conviction tolls a supervised-release term under 18 U. S. C. §3624(e), even if the court must make the tolling calculation after learning whether the time will be credited.']]\n",
    "  \n",
    "```"
   ]
  },
  {
   "cell_type": "code",
   "execution_count": 9,
   "metadata": {},
   "outputs": [],
   "source": [
    "table1 = soup_doc.find(class_='table table-bordered').find_all('tr')\n",
    "# table1"
   ]
  },
  {
   "cell_type": "code",
   "execution_count": 10,
   "metadata": {},
   "outputs": [
    {
     "data": {
      "text/plain": [
       "[['51',\n",
       "  '6/10/19',\n",
       "  '17-778',\n",
       "  'Quarles v. United States',\n",
       "  '\\xa0',\n",
       "  'BK',\n",
       "  '587/2',\n",
       "  '/opinions/18pdf/17-778_7li8.pdf',\n",
       "  'Michigan’s third-degree home-invasion statute substantially corresponds to or is narrower than generic burglary for purposes of qualifying for enhanced sentencing under the Armed Career Criminal Act.'],\n",
       " ['50',\n",
       "  '6/10/19',\n",
       "  '17-1594',\n",
       "  'Return Mail, Inc. v. Postal Service',\n",
       "  '\\xa0',\n",
       "  'SS',\n",
       "  '587/2',\n",
       "  '/opinions/18pdf/17-1594_1an2.pdf',\n",
       "  'The Federal Government is not a “person” capable of petitioning the Patent Trial and Appeal Board to institute patent review proceedings under the Leahy-Smith America Invents Act.'],\n",
       " ['49',\n",
       "  '6/10/19',\n",
       "  '18-389',\n",
       "  'Parker Drilling Management Services, Ltd. v. Newton',\n",
       "  '\\xa0',\n",
       "  'T',\n",
       "  '587/2',\n",
       "  '/opinions/18pdf/18-389_4g15.pdf',\n",
       "  'Under the Outer Continental Shelf Lands Act, where federal law addresses the relevant issue, state law is not adopted as surrogate federal law on the Outer Continental Shelf.'],\n",
       " ['48',\n",
       "  '6/03/19',\n",
       "  '17-1484',\n",
       "  'Azar v. Allina Health Services',\n",
       "  '\\xa0',\n",
       "  'NG',\n",
       "  '587/2',\n",
       "  '/opinions/18pdf/17-1484_4f57.pdf',\n",
       "  'Because the Department of Health and Human Services neglected its statutory notice-and-comment obligations when it revealed a new policy that dramatically—and retroactively—reduced Medicare payments to hospitals serving low-income patients, its policy must be vacated.'],\n",
       " ['47',\n",
       "  '6/03/19',\n",
       "  '18-489',\n",
       "  'Taggart v. Lorenzen',\n",
       "  '\\xa0',\n",
       "  'B',\n",
       "  '587/2',\n",
       "  '/opinions/18pdf/18-489_p8k0.pdf',\n",
       "  'A creditor may be held in civil contempt for violating a bankruptcy court’s discharge order if there is no fair ground of doubt as to whether the order barred the creditor’s conduct.'],\n",
       " ['46',\n",
       "  '6/03/19',\n",
       "  '18-525',\n",
       "  'Fort Bend County v. Davis',\n",
       "  '\\xa0',\n",
       "  'G',\n",
       "  '587/2',\n",
       "  '/opinions/18pdf/18-525_m6hn.pdf',\n",
       "  'The charge-filing precondition to suit set out in Title VII of the Civil Rights Act of 1964 is not a jurisdictional requirement.'],\n",
       " ['45',\n",
       "  '6/03/19',\n",
       "  '17-8995',\n",
       "  'Mont v. United States',\n",
       "  '6/03/19',\n",
       "  'T',\n",
       "  '587/2',\n",
       "  '/opinions/18pdf/17-8995_new_097c.pdf',\n",
       "  'Pretrial detention later credited as time served for a new conviction tolls a supervised-release term under 18 U. S. C. §3624(e), even if the court must make the tolling calculation after learning whether the time will be credited.']]"
      ]
     },
     "execution_count": 10,
     "metadata": {},
     "output_type": "execute_result"
    }
   ],
   "source": [
    "table1 = soup_doc.find(class_='table table-bordered').find_all('tr')\n",
    "table1_info = []\n",
    "\n",
    "for table1_row in table1[1:]:\n",
    "    table1_row_info = []\n",
    "    table1_row_html = table1_row.find_all('td')\n",
    "    table1_row_attrs = table1_row.a.attrs\n",
    "    for row in table1_row_html:\n",
    "        table1_row_info.append(row.string)\n",
    "    for attr in table1_row_attrs.values():\n",
    "        if attr != '_blank':\n",
    "            table1_row_info.append(attr)\n",
    "    table1_info.append(table1_row_info)\n",
    "table1_info"
   ]
  },
  {
   "cell_type": "markdown",
   "metadata": {},
   "source": [
    "Finally, go through EVERY table, and get out every row--no headers. So you have all of the 2018 decisions from 51-1 info in excellent list within list format."
   ]
  },
  {
   "cell_type": "code",
   "execution_count": 11,
   "metadata": {},
   "outputs": [],
   "source": [
    "all_months_tables = soup_doc.find(class_='panel-group').find_all(class_='table table-bordered')\n",
    "all_months = [each_table.find_all('tr') for each_table in all_months_tables]\n",
    "# all_months"
   ]
  },
  {
   "cell_type": "code",
   "execution_count": 18,
   "metadata": {},
   "outputs": [
    {
     "data": {
      "text/plain": [
       "8"
      ]
     },
     "execution_count": 18,
     "metadata": {},
     "output_type": "execute_result"
    }
   ],
   "source": [
    "# List of lists of lists, where there is a sublist by month\n",
    "all_tables = []\n",
    "for month in all_months:\n",
    "    month_info = []\n",
    "    for each_row in month[1:]:\n",
    "        each_row_info = []\n",
    "        each_row_html = each_row.find_all('td')\n",
    "        each_row_attrs = each_row.a.attrs\n",
    "        for row in each_row_html:\n",
    "            each_row_info.append(row.string)\n",
    "        for attr in each_row_attrs.values():\n",
    "            if attr != '_blank':\n",
    "                each_row_info.append(attr)\n",
    "        month_info.append(each_row_info)\n",
    "    all_tables.append(month_info)\n",
    "    \n",
    "all_tables"
   ]
  },
  {
   "cell_type": "markdown",
   "metadata": {},
   "source": [
    "## Real Shakespeare: Extra Credit\n",
    "The Folger  Shakespeare Library has HTML versions of their Shakespeare publicly available, but in terrible HTML format. If you want to challenge yourself try pulling out the first 100 lines of Twelfth Night, available here:\n",
    "\n",
    "http://floatingmedia.com/columbia/FolgerShakes/TN.html\n",
    "\n",
    "The final output should resemble what you see below. Each of these lines contains three elements:\n",
    "\n",
    "1) a code for act.scene.line along with whether is the stage direction \n",
    "2) the speaker or the last person who spoke prior to the stage direction\n",
    "3) a line or stage direction.\n",
    "\n",
    "`\n",
    "line-SD 1.1.0\tNOSPEAKER\tEnter Orsino, Duke of Illyria, Curio, and other Lords,\n",
    "line-SD 1.1.0\tNOSPEAKER\twith\n",
    "line-SD 1.1.0\tNOSPEAKER\t Musicians playing.\n",
    "line-1.1.1\tORSINO\tIf music be the food of love, play on.\n",
    "line-1.1.2\tORSINO\tGive me excess of it, that, surfeiting,\n",
    "line-1.1.3\tORSINO\tThe appetite may sicken and so die.\n",
    "line-1.1.4\tORSINO\tThat strain again! It had a dying fall.\n",
    "line-1.1.5\tORSINO\tO, it came o’er my ear like the sweet sound\n",
    "line-1.1.6\tORSINO\tThat breathes upon a bank of violets,\n",
    "line-1.1.7\tORSINO\tStealing and giving odor. Enough; no more.\n",
    "line-1.1.8\tORSINO\t’Tis not so sweet now as it was before.\n",
    "line-1.1.9\tORSINO\tO spirit of love, how quick and fresh art thou,\n",
    "line-1.1.10\tORSINO\tThat, notwithstanding thy capacity\n",
    "line-1.1.11\tORSINO\tReceiveth as the sea, naught enters there,\n",
    "line-1.1.12\tORSINO\tOf what validity and pitch soe’er,\n",
    "line-1.1.13\tORSINO\tBut falls into abatement and low price\n",
    "line-1.1.14\tORSINO\tEven in a minute. So full of shapes is fancy\n",
    "line-1.1.15\tORSINO\tThat it alone is high fantastical.\n",
    "line-1.1.16\tCURIO\tWill you go hunt, my lord?\n",
    "line-1.1.17\tORSINO\tWhat, Curio?\n",
    "line-1.1.18\tCURIO\tThe hart.\n",
    "line-1.1.19\tORSINO\tWhy, so I do, the noblest that I have.\n",
    "line-1.1.20\tORSINO\tO, when mine eyes did see Olivia first,\n",
    "line-1.1.21\tORSINO\tMethought she purged the air of pestilence.\n",
    "line-1.1.22\tORSINO\tThat instant was I turned into a hart,\n",
    "line-1.1.23\tORSINO\tAnd my desires, like fell and cruel hounds,\n",
    "line-1.1.24\tORSINO\tE’er since pursue me.\n",
    "line-SD 1.1.24.1\tORSINO\tEnter Valentine.\n",
    "line-1.1.25\tORSINO\tHow now, what news from her?\n",
    "line-1.1.26\tVALENTINE\tSo please my lord, I might not be admitted,\n",
    "line-1.1.27\tVALENTINE\tBut from her handmaid do return this answer:\n",
    "line-1.1.28\tVALENTINE\tThe element itself, till seven years’ heat,\n",
    "line-1.1.29\tVALENTINE\tShall not behold her face at ample view,\n",
    "line-1.1.30\tVALENTINE\tBut like a cloistress she will veilèd walk,\n",
    "line-1.1.31\tVALENTINE\tAnd water once a day her chamber round\n",
    "line-1.1.32\tVALENTINE\tWith eye-offending brine—all this to season\n",
    "line-1.1.33\tVALENTINE\tA brother’s dead love, which she would keep fresh\n",
    "line-1.1.34\tVALENTINE\tAnd lasting in her sad remembrance.\n",
    "line-1.1.35\tORSINO\tO, she that hath a heart of that fine frame\n",
    "line-1.1.36\tORSINO\tTo pay this debt of love but to a brother,\n",
    "line-1.1.37\tORSINO\tHow will she love when the rich golden shaft\n",
    "line-1.1.38\tORSINO\tHath killed the flock of all affections else\n",
    "line-1.1.39\tORSINO\tThat live in her; when liver, brain, and heart,\n",
    "line-1.1.40\tORSINO\tThese sovereign thrones, are all supplied, and filled\n",
    "line-1.1.41\tORSINO\tHer sweet perfections with one self king!\n",
    "line-1.1.42\tORSINO\tAway before me to sweet beds of flowers!\n",
    "line-1.1.43\tORSINO\tLove thoughts lie rich when canopied with bowers.\n",
    "line-SD 1.1.43.1\tORSINO\tThey exit.\n",
    "line-SD 1.2.0\tORSINO\tEnter Viola, a Captain, and Sailors.\n",
    "line-1.2.1\tVIOLA\tWhat country, friends, is this?\n",
    "line-1.2.2\tCAPTAIN\tThis is Illyria, lady.\n",
    "line-1.2.3\tVIOLA\tAnd what should I do in Illyria?\n",
    "line-1.2.4\tVIOLA\tMy brother he is in Elysium.\n",
    "line-1.2.5\tVIOLA\tPerchance he is not drowned.—What think you,\n",
    "line-1.2.6\tVIOLA\tsailors?\n",
    "line-1.2.7\tCAPTAIN\tIt is perchance that you yourself were saved.\n",
    "line-1.2.8\tVIOLA\tO, my poor brother! And so perchance may he be.\n",
    "line-1.2.9\tCAPTAIN\tTrue, madam. And to comfort you with chance,\n",
    "line-1.2.10\tCAPTAIN\tAssure yourself, after our ship did split,\n",
    "line-1.2.11\tCAPTAIN\tWhen you and those poor number saved with you\n",
    "line-1.2.12\tCAPTAIN\tHung on our driving boat, I saw your brother,\n",
    "line-1.2.13\tCAPTAIN\tMost provident in peril, bind himself\n",
    "line-1.2.14\tCAPTAIN\t(Courage and hope both teaching him the practice)\n",
    "line-1.2.15\tCAPTAIN\tTo a strong mast that lived upon the sea,\n",
    "line-1.2.16\tCAPTAIN\tWhere, like Arion\n",
    "line-1.2.16\tCAPTAIN\t on the dolphin’s back,\n",
    "line-1.2.17\tCAPTAIN\tI saw him hold acquaintance with the waves\n",
    "line-1.2.18\tCAPTAIN\tSo long as I could see.\n",
    "line-SD 1.2.19\tVIOLA\t, giving\n",
    "line-SD 1.2.19\tVIOLA\t him money\n",
    "line-1.2.19\tVIOLA\tFor saying so, there’s gold.\n",
    "line-1.2.20\tVIOLA\tMine own escape unfoldeth to my hope,\n",
    "line-1.2.21\tVIOLA\tWhereto thy speech serves for authority,\n",
    "line-1.2.22\tVIOLA\tThe like of him. Know’st thou this country?\n",
    "line-1.2.23\tCAPTAIN\tAy, madam, well, for I was bred and born\n",
    "line-1.2.24\tCAPTAIN\tNot three hours’ travel from this very place.\n",
    "line-1.2.25\tVIOLA\tWho governs here?\n",
    "line-1.2.26\tCAPTAIN\tA noble duke, in nature as in name.\n",
    "line-1.2.27\tVIOLA\tWhat is his name?\n",
    "line-1.2.28\tCAPTAIN\tOrsino.\n",
    "line-1.2.29\tVIOLA\tOrsino. I have heard my father name him.\n",
    "line-1.2.30\tVIOLA\tHe was a bachelor then.\n",
    "line-1.2.31\tCAPTAIN\tAnd so is now, or was so very late;\n",
    "line-1.2.32\tCAPTAIN\tFor but a month ago I went from hence,\n",
    "line-1.2.33\tCAPTAIN\tAnd then ’twas fresh in murmur (as, you know,\n",
    "line-1.2.34\tCAPTAIN\tWhat great ones do the less will prattle of)\n",
    "line-1.2.35\tCAPTAIN\tThat he did seek the love of fair Olivia.\n",
    "line-1.2.36\tVIOLA\tWhat’s she?\n",
    "line-1.2.37\tCAPTAIN\tA virtuous maid, the daughter of a count\n",
    "line-1.2.38\tCAPTAIN\tThat died some twelvemonth since, then leaving her\n",
    "line-1.2.39\tCAPTAIN\tIn the protection of his son, her brother,\n",
    "line-1.2.40\tCAPTAIN\tWho shortly also died, for whose dear love,\n",
    "line-1.2.41\tCAPTAIN\tThey say, she hath abjured the sight\n",
    "line-1.2.42\tCAPTAIN\tAnd company of men.\n",
    "line-1.2.43\tVIOLA\tO, that I served that lady,\n",
    "line-1.2.44\tVIOLA\tAnd might not be delivered to the world\n",
    "line-1.2.45\tVIOLA\tTill I had made mine own occasion mellow,\n",
    "line-1.2.46\tVIOLA\tWhat my estate is.\n",
    "line-1.2.47\tCAPTAIN\tThat were hard to compass\n",
    "line-1.2.48\tCAPTAIN\tBecause she will admit no kind of suit,\n",
    "`"
   ]
  },
  {
   "cell_type": "markdown",
   "metadata": {},
   "source": [
    "Request and parse the HTML, and give it a shot!"
   ]
  },
  {
   "cell_type": "code",
   "execution_count": 13,
   "metadata": {},
   "outputs": [],
   "source": [
    "url = 'http://floatingmedia.com/columbia/FolgerShakes/TN.html'\n",
    "sp_raw_html = requests.get(url).content\n",
    "sp = BeautifulSoup(sp_raw_html, 'html.parser')"
   ]
  },
  {
   "cell_type": "markdown",
   "metadata": {},
   "source": [
    "# All lines in Scene 1"
   ]
  },
  {
   "cell_type": "code",
   "execution_count": 14,
   "metadata": {},
   "outputs": [],
   "source": [
    "# sp.find(\"span\", {\"class\": \"stage centered\"})\n",
    "# stagedirs = sp.find(\"span\", {\"class\": \"stage centered\"}).find_all('span', {'id':'line-SD 1.1.0'})\n",
    "# # stagedirs[0].attrs['id']\n",
    "\n",
    "# for stagedir in stagedirs:\n",
    "#     if stagedir.attrs['id']:\n",
    "#         print(f\"{stagedir.attrs['id']} || NOSPEAKER || {stagedir.text}\")"
   ]
  },
  {
   "cell_type": "code",
   "execution_count": 15,
   "metadata": {},
   "outputs": [
    {
     "name": "stdout",
     "output_type": "stream",
     "text": [
      "line-SD 1.1.0 || NOSPEAKER || Enter Orsino, Duke of Illyria, Curio, and other Lords,\n",
      "line-SD 1.1.0 || NOSPEAKER || with\n",
      "line-SD 1.1.0 || NOSPEAKER ||  Musicians playing.\n",
      "line-1.1.1 || ORSINO || If music be the food of love, play on.\n",
      "line-1.1.2 || ORSINO || Give me excess of it, that, surfeiting,\n",
      "line-1.1.3 || ORSINO || The appetite may sicken and so die.\n",
      "line-1.1.4 || ORSINO || That strain again! It had a dying fall.\n",
      "line-1.1.5 || ORSINO || O, it came o’er my ear like the sweet sound\n",
      "line-1.1.6 || ORSINO || That breathes upon a bank of violets,\n",
      "line-1.1.7 || ORSINO || Stealing and giving odor. Enough; no more.\n",
      "line-1.1.8 || ORSINO || ’Tis not so sweet now as it was before.\n",
      "line-1.1.9 || ORSINO || O spirit of love, how quick and fresh art thou,\n",
      "line-1.1.10 || ORSINO || That, notwithstanding thy capacity\n",
      "line-1.1.11 || ORSINO || Receiveth as the sea, naught enters there,\n",
      "line-1.1.12 || ORSINO || Of what validity and pitch soe’er,\n",
      "line-1.1.13 || ORSINO || But falls into abatement and low price\n",
      "line-1.1.14 || ORSINO || Even in a minute. So full of shapes is fancy\n",
      "line-1.1.15 || ORSINO || That it alone is high fantastical.\n",
      "line-1.1.16 || CURIO || Will you go hunt, my lord?\n",
      "line-1.1.17 || ORSINO || What, Curio?\n",
      "line-1.1.18 || CURIO || The hart.\n",
      "line-1.1.19 || ORSINO || Why, so I do, the noblest that I have.\n",
      "line-1.1.20 || ORSINO || O, when mine eyes did see Olivia first,\n",
      "line-1.1.21 || ORSINO || Methought she purged the air of pestilence.\n",
      "line-1.1.22 || ORSINO || That instant was I turned into a hart,\n",
      "line-1.1.23 || ORSINO || And my desires, like fell and cruel hounds,\n",
      "line-1.1.24 || ORSINO || E’er since pursue me.\n",
      "line-SD 1.1.24.1 || ORSINO || Enter Valentine.\n",
      "line-1.1.25 || ORSINO || How now, what news from her?\n",
      "line-1.1.26 || VALENTINE || So please my lord, I might not be admitted,\n",
      "line-1.1.27 || VALENTINE || But from her handmaid do return this answer:\n",
      "line-1.1.28 || VALENTINE || The element itself, till seven years’ heat,\n",
      "line-1.1.29 || VALENTINE || Shall not behold her face at ample view,\n",
      "line-1.1.30 || VALENTINE || But like a cloistress she will veilèd walk,\n",
      "line-1.1.31 || VALENTINE || And water once a day her chamber round\n",
      "line-1.1.32 || VALENTINE || With eye-offending brine—all this to season\n",
      "line-1.1.33 || VALENTINE || A brother’s dead love, which she would keep fresh\n",
      "line-1.1.34 || VALENTINE || And lasting in her sad remembrance.\n",
      "line-1.1.35 || ORSINO || O, she that hath a heart of that fine frame\n",
      "line-1.1.36 || ORSINO || To pay this debt of love but to a brother,\n",
      "line-1.1.37 || ORSINO || How will she love when the rich golden shaft\n",
      "line-1.1.38 || ORSINO || Hath killed the flock of all affections else\n",
      "line-1.1.39 || ORSINO || That live in her; when liver, brain, and heart,\n",
      "line-1.1.40 || ORSINO || These sovereign thrones, are all supplied, and filled\n",
      "line-1.1.41 || ORSINO || Her sweet perfections with one self king!\n",
      "line-1.1.42 || ORSINO || Away before me to sweet beds of flowers!\n",
      "line-1.1.43 || ORSINO || Love thoughts lie rich when canopied with bowers.\n",
      "line-SD 1.1.43.1 || ORSINO || They exit.\n"
     ]
    }
   ],
   "source": [
    "# sp.find('div', {\"class\": \"div2\"})              \n",
    "import re\n",
    "# THIS WORKS\n",
    "sc1_all_lines = sp.find('div', {\"class\": \"div2\"}).find_all('span')\n",
    "\n",
    "speaker = 'NOSPEAKER'\n",
    "for line in sc1_all_lines:\n",
    "    if str(line).startswith('<span class=\"speaker\">'):\n",
    "        speaker = line.text\n",
    "        continue\n",
    "    if str(line).startswith('<span id'):\n",
    "        print(f\"{line.attrs['id']} || {speaker} || {line.text}\")\n",
    "    else:\n",
    "        continue"
   ]
  },
  {
   "cell_type": "markdown",
   "metadata": {},
   "source": [
    "# All lines, then the first 100 lines"
   ]
  },
  {
   "cell_type": "code",
   "execution_count": 16,
   "metadata": {},
   "outputs": [],
   "source": [
    "all_scenes = sp.find_all('div', {\"class\": \"div2\"})\n",
    "scene_lines = [line.find_all('span') for line in all_scenes]"
   ]
  },
  {
   "cell_type": "code",
   "execution_count": 17,
   "metadata": {},
   "outputs": [
    {
     "name": "stdout",
     "output_type": "stream",
     "text": [
      "line-SD 1.1.0 || NOSPEAKER || Enter Orsino, Duke of Illyria, Curio, and other Lords,\n",
      "line-SD 1.1.0 || NOSPEAKER || with\n",
      "line-SD 1.1.0 || NOSPEAKER ||  Musicians playing.\n",
      "line-1.1.1 || ORSINO || If music be the food of love, play on.\n",
      "line-1.1.2 || ORSINO || Give me excess of it, that, surfeiting,\n",
      "line-1.1.3 || ORSINO || The appetite may sicken and so die.\n",
      "line-1.1.4 || ORSINO || That strain again! It had a dying fall.\n",
      "line-1.1.5 || ORSINO || O, it came o’er my ear like the sweet sound\n",
      "line-1.1.6 || ORSINO || That breathes upon a bank of violets,\n",
      "line-1.1.7 || ORSINO || Stealing and giving odor. Enough; no more.\n",
      "line-1.1.8 || ORSINO || ’Tis not so sweet now as it was before.\n",
      "line-1.1.9 || ORSINO || O spirit of love, how quick and fresh art thou,\n",
      "line-1.1.10 || ORSINO || That, notwithstanding thy capacity\n",
      "line-1.1.11 || ORSINO || Receiveth as the sea, naught enters there,\n",
      "line-1.1.12 || ORSINO || Of what validity and pitch soe’er,\n",
      "line-1.1.13 || ORSINO || But falls into abatement and low price\n",
      "line-1.1.14 || ORSINO || Even in a minute. So full of shapes is fancy\n",
      "line-1.1.15 || ORSINO || That it alone is high fantastical.\n",
      "line-1.1.16 || CURIO || Will you go hunt, my lord?\n",
      "line-1.1.17 || ORSINO || What, Curio?\n",
      "line-1.1.18 || CURIO || The hart.\n",
      "line-1.1.19 || ORSINO || Why, so I do, the noblest that I have.\n",
      "line-1.1.20 || ORSINO || O, when mine eyes did see Olivia first,\n",
      "line-1.1.21 || ORSINO || Methought she purged the air of pestilence.\n",
      "line-1.1.22 || ORSINO || That instant was I turned into a hart,\n",
      "line-1.1.23 || ORSINO || And my desires, like fell and cruel hounds,\n",
      "line-1.1.24 || ORSINO || E’er since pursue me.\n",
      "line-SD 1.1.24.1 || ORSINO || Enter Valentine.\n",
      "line-1.1.25 || ORSINO || How now, what news from her?\n",
      "line-1.1.26 || VALENTINE || So please my lord, I might not be admitted,\n",
      "line-1.1.27 || VALENTINE || But from her handmaid do return this answer:\n",
      "line-1.1.28 || VALENTINE || The element itself, till seven years’ heat,\n",
      "line-1.1.29 || VALENTINE || Shall not behold her face at ample view,\n",
      "line-1.1.30 || VALENTINE || But like a cloistress she will veilèd walk,\n",
      "line-1.1.31 || VALENTINE || And water once a day her chamber round\n",
      "line-1.1.32 || VALENTINE || With eye-offending brine—all this to season\n",
      "line-1.1.33 || VALENTINE || A brother’s dead love, which she would keep fresh\n",
      "line-1.1.34 || VALENTINE || And lasting in her sad remembrance.\n",
      "line-1.1.35 || ORSINO || O, she that hath a heart of that fine frame\n",
      "line-1.1.36 || ORSINO || To pay this debt of love but to a brother,\n",
      "line-1.1.37 || ORSINO || How will she love when the rich golden shaft\n",
      "line-1.1.38 || ORSINO || Hath killed the flock of all affections else\n",
      "line-1.1.39 || ORSINO || That live in her; when liver, brain, and heart,\n",
      "line-1.1.40 || ORSINO || These sovereign thrones, are all supplied, and filled\n",
      "line-1.1.41 || ORSINO || Her sweet perfections with one self king!\n",
      "line-1.1.42 || ORSINO || Away before me to sweet beds of flowers!\n",
      "line-1.1.43 || ORSINO || Love thoughts lie rich when canopied with bowers.\n",
      "line-SD 1.1.43.1 || ORSINO || They exit.\n",
      "line-SD 1.2.0 || ORSINO || Enter Viola, a Captain, and Sailors.\n",
      "line-1.2.1 || VIOLA || What country, friends, is this?\n",
      "line-1.2.2 || CAPTAIN || This is Illyria, lady.\n",
      "line-1.2.3 || VIOLA || And what should I do in Illyria?\n",
      "line-1.2.4 || VIOLA || My brother he is in Elysium.\n",
      "line-1.2.5 || VIOLA || Perchance he is not drowned.—What think you,\n",
      "line-1.2.6 || VIOLA || sailors?\n",
      "line-1.2.7 || CAPTAIN || It is perchance that you yourself were saved.\n",
      "line-1.2.8 || VIOLA || O, my poor brother! And so perchance may he be.\n",
      "line-1.2.9 || CAPTAIN || True, madam. And to comfort you with chance,\n",
      "line-1.2.10 || CAPTAIN || Assure yourself, after our ship did split,\n",
      "line-1.2.11 || CAPTAIN || When you and those poor number saved with you\n",
      "line-1.2.12 || CAPTAIN || Hung on our driving boat, I saw your brother,\n",
      "line-1.2.13 || CAPTAIN || Most provident in peril, bind himself\n",
      "line-1.2.14 || CAPTAIN || (Courage and hope both teaching him the practice)\n",
      "line-1.2.15 || CAPTAIN || To a strong mast that lived upon the sea,\n",
      "line-1.2.16 || CAPTAIN || Where, like Arion\n",
      "line-1.2.16 || CAPTAIN ||  on the dolphin’s back,\n",
      "line-1.2.17 || CAPTAIN || I saw him hold acquaintance with the waves\n",
      "line-1.2.18 || CAPTAIN || So long as I could see.\n",
      "line-SD 1.2.19 || VIOLA || , giving\n",
      "line-SD 1.2.19 || VIOLA ||  him money\n",
      "line-1.2.19 || VIOLA || For saying so, there’s gold.\n",
      "line-1.2.20 || VIOLA || Mine own escape unfoldeth to my hope,\n",
      "line-1.2.21 || VIOLA || Whereto thy speech serves for authority,\n",
      "line-1.2.22 || VIOLA || The like of him. Know’st thou this country?\n",
      "line-1.2.23 || CAPTAIN || Ay, madam, well, for I was bred and born\n",
      "line-1.2.24 || CAPTAIN || Not three hours’ travel from this very place.\n",
      "line-1.2.25 || VIOLA || Who governs here?\n",
      "line-1.2.26 || CAPTAIN || A noble duke, in nature as in name.\n",
      "line-1.2.27 || VIOLA || What is his name?\n",
      "line-1.2.28 || CAPTAIN || Orsino.\n",
      "line-1.2.29 || VIOLA || Orsino. I have heard my father name him.\n",
      "line-1.2.30 || VIOLA || He was a bachelor then.\n",
      "line-1.2.31 || CAPTAIN || And so is now, or was so very late;\n",
      "line-1.2.32 || CAPTAIN || For but a month ago I went from hence,\n",
      "line-1.2.33 || CAPTAIN || And then ’twas fresh in murmur (as, you know,\n",
      "line-1.2.34 || CAPTAIN || What great ones do the less will prattle of)\n",
      "line-1.2.35 || CAPTAIN || That he did seek the love of fair Olivia.\n",
      "line-1.2.36 || VIOLA || What’s she?\n",
      "line-1.2.37 || CAPTAIN || A virtuous maid, the daughter of a count\n",
      "line-1.2.38 || CAPTAIN || That died some twelvemonth since, then leaving her\n",
      "line-1.2.39 || CAPTAIN || In the protection of his son, her brother,\n",
      "line-1.2.40 || CAPTAIN || Who shortly also died, for whose dear love,\n",
      "line-1.2.41 || CAPTAIN || They say, she hath abjured the sight\n",
      "line-1.2.42 || CAPTAIN || And company of men.\n",
      "line-1.2.43 || VIOLA || O, that I served that lady,\n",
      "line-1.2.44 || VIOLA || And might not be delivered to the world\n",
      "line-1.2.45 || VIOLA || Till I had made mine own occasion mellow,\n",
      "line-1.2.46 || VIOLA || What my estate is.\n",
      "line-1.2.47 || CAPTAIN || That were hard to compass\n",
      "line-1.2.48 || CAPTAIN || Because she will admit no kind of suit,\n"
     ]
    }
   ],
   "source": [
    "speaker = 'NOSPEAKER'\n",
    "all_lines = []\n",
    "for scene in scene_lines:\n",
    "    for line in scene:\n",
    "        if str(line).startswith('<span class=\"speaker\">'):\n",
    "            speaker = line.text\n",
    "            continue\n",
    "        if str(line).startswith('<span id'):\n",
    "            all_lines.append(f\"{line.attrs['id']} || {speaker} || {line.text}\")\n",
    "        else:\n",
    "            continue\n",
    "\n",
    "for line in all_lines[:100]:\n",
    "    print(line)"
   ]
  }
 ],
 "metadata": {
  "kernelspec": {
   "display_name": "Python 3",
   "language": "python",
   "name": "python3"
  },
  "language_info": {
   "codemirror_mode": {
    "name": "ipython",
    "version": 3
   },
   "file_extension": ".py",
   "mimetype": "text/x-python",
   "name": "python",
   "nbconvert_exporter": "python",
   "pygments_lexer": "ipython3",
   "version": "3.6.5"
  }
 },
 "nbformat": 4,
 "nbformat_minor": 2
}
