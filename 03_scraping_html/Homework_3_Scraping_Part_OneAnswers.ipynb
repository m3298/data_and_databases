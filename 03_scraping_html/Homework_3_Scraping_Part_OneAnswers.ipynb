{
 "cells": [
  {
   "cell_type": "markdown",
   "metadata": {},
   "source": [
    "## Homework 3: Scraping Part One\n",
    "This homework asks you to scrape the dialogue from one act in Shakespeare, please follow the instructions and do the best you can. With the exception of the first cell that imports the request and the beautiful soup library, I have not pre-written any code for you. Do not be afraid--you may look at the tutorial for examples, as well as the Beautiful Soup documentation, and any other Python resource (such a Stack overflow) if need be. \n",
    "\n",
    "This homework is intended to be challenging, if you only get 70% of the stuff done that's great!"
   ]
  },
  {
   "cell_type": "code",
   "execution_count": 1,
   "metadata": {
    "collapsed": true
   },
   "outputs": [],
   "source": [
    "import requests\n",
    "from bs4 import BeautifulSoup"
   ]
  },
  {
   "cell_type": "markdown",
   "metadata": {},
   "source": [
    "## Shakespeare \n",
    "I've posted some relatively simple HTML of the first act of William Shakespeare's The Tempest here: http://floatingmedia.com/columbia/tempest.html please use that URL to download the HTML and put it through Beautiful Soup. (It also may be very helpful for you to go to that page in chrome and inspect elements why you do this.) \n",
    "**Please note: there are 2 scenes in Act 1**\n",
    "\n"
   ]
  },
  {
   "cell_type": "markdown",
   "metadata": {},
   "source": [
    "In the cells below you should you make two lines--a variable that requests and reads the HTML from the URL (http://floatingmedia.com/columbia/tempest.html), and a second variable that passes the raw HTML into Beautiful Soup. You will use that beautiful soup variable to search the HTML."
   ]
  },
  {
   "cell_type": "code",
   "execution_count": 2,
   "metadata": {
    "collapsed": true
   },
   "outputs": [],
   "source": [
    "my_url = \"http://floatingmedia.com/columbia/tempest.html\"\n",
    "raw_html = requests.get(my_url).content"
   ]
  },
  {
   "cell_type": "code",
   "execution_count": 3,
   "metadata": {},
   "outputs": [
    {
     "name": "stdout",
     "output_type": "stream",
     "text": [
      "<class 'bs4.BeautifulSoup'>\n"
     ]
    }
   ],
   "source": [
    "soup_doc = BeautifulSoup(raw_html, \"html.parser\")\n",
    "print(type(soup_doc))"
   ]
  },
  {
   "cell_type": "markdown",
   "metadata": {},
   "source": [
    "Get the title of the play:\n",
    "\n"
   ]
  },
  {
   "cell_type": "code",
   "execution_count": 7,
   "metadata": {},
   "outputs": [
    {
     "data": {
      "text/plain": [
       "<title>The Tempest</title>"
      ]
     },
     "execution_count": 7,
     "metadata": {},
     "output_type": "execute_result"
    }
   ],
   "source": [
    "soup_doc.title\n",
    "# soup_doc.find('title')\n",
    "soup_doc.find_all('title')[0]\n",
    "\n"
   ]
  },
  {
   "cell_type": "markdown",
   "metadata": {},
   "source": [
    "Get the HTML that contains the setting of Act One Scene 1:"
   ]
  },
  {
   "cell_type": "code",
   "execution_count": 11,
   "metadata": {},
   "outputs": [
    {
     "data": {
      "text/plain": [
       "<strong>\n",
       "On a ship at sea</strong>"
      ]
     },
     "execution_count": 11,
     "metadata": {},
     "output_type": "execute_result"
    }
   ],
   "source": [
    "soup_doc.find_all('p')[1].strong.string\n",
    "soup_doc.strong\n",
    "# anything close to this is fine."
   ]
  },
  {
   "cell_type": "markdown",
   "metadata": {},
   "source": [
    "Get the setting of Act One Scene 1 (without HTML tags):"
   ]
  },
  {
   "cell_type": "code",
   "execution_count": 38,
   "metadata": {},
   "outputs": [
    {
     "data": {
      "text/plain": [
       "'\\nOn a ship at sea'"
      ]
     },
     "execution_count": 38,
     "metadata": {},
     "output_type": "execute_result"
    }
   ],
   "source": [
    "soup_doc.find_all('p')[1].strong.string"
   ]
  },
  {
   "cell_type": "markdown",
   "metadata": {},
   "source": [
    "Get the setting of scene 2"
   ]
  },
  {
   "cell_type": "code",
   "execution_count": 12,
   "metadata": {},
   "outputs": [
    {
     "data": {
      "text/plain": [
       "'The island. Before PROSPERO’S cell.'"
      ]
     },
     "execution_count": 12,
     "metadata": {},
     "output_type": "execute_result"
    }
   ],
   "source": [
    "soup_doc.find_all('div')[2].strong.string\n",
    "#Again, there are 400,000 ways to do this.\n",
    "#Ok, maybe not that many."
   ]
  },
  {
   "cell_type": "markdown",
   "metadata": {},
   "source": [
    "Get the name of the first character in Scene 1"
   ]
  },
  {
   "cell_type": "code",
   "execution_count": 14,
   "metadata": {},
   "outputs": [
    {
     "data": {
      "text/plain": [
       "'Master. '"
      ]
     },
     "execution_count": 14,
     "metadata": {},
     "output_type": "execute_result"
    }
   ],
   "source": [
    "soup_doc.find_all('div')[1].strong.string\n",
    "#or\n",
    "soup_doc.li.strong.string\n",
    "#or other ways"
   ]
  },
  {
   "cell_type": "markdown",
   "metadata": {},
   "source": [
    "Get a list of all of characters in Scene 1 (repeats are fine, you need a loop here)"
   ]
  },
  {
   "cell_type": "code",
   "execution_count": 41,
   "metadata": {},
   "outputs": [
    {
     "data": {
      "text/plain": [
       "['Master. ',\n",
       " 'Boatswain. ',\n",
       " 'Master. ',\n",
       " 'Boatswain. ',\n",
       " 'Alonso. ',\n",
       " 'Boatswain. ',\n",
       " 'Antonio. ',\n",
       " 'Boatswain. ',\n",
       " 'Gonzalo. ',\n",
       " 'Boatswain. ',\n",
       " 'Gonzalo. ',\n",
       " 'Boatswain. ',\n",
       " 'Gonzalo. ',\n",
       " 'Boatswain. ',\n",
       " 'Sebastian. ',\n",
       " 'Boatswain. ',\n",
       " 'Antonio. ',\n",
       " 'Gonzalo. ',\n",
       " 'Boatswain. ',\n",
       " 'Mariners. ',\n",
       " 'Boatswain. ',\n",
       " 'Gonzalo. ',\n",
       " 'Sebastian. ',\n",
       " 'Antonio. ',\n",
       " 'Gonzalo. ',\n",
       " 'Antonio. ',\n",
       " 'Sebastian. ',\n",
       " 'Gonzalo. ']"
      ]
     },
     "execution_count": 41,
     "metadata": {},
     "output_type": "execute_result"
    }
   ],
   "source": [
    "characters = soup_doc.find_all('div')[1].find_all('strong')\n",
    "mylist = []\n",
    "for charName in characters:\n",
    "    mylist.append(charName.string)\n",
    "mylist"
   ]
  },
  {
   "cell_type": "markdown",
   "metadata": {},
   "source": [
    "**Bonus:** write a script that takes all the duplicates out of the list. (This is a python thing, not a beautiful soup thing.)"
   ]
  },
  {
   "cell_type": "code",
   "execution_count": 42,
   "metadata": {},
   "outputs": [
    {
     "data": {
      "text/plain": [
       "['Sebastian. ',\n",
       " 'Alonso. ',\n",
       " 'Master. ',\n",
       " 'Mariners. ',\n",
       " 'Boatswain. ',\n",
       " 'Gonzalo. ',\n",
       " 'Antonio. ']"
      ]
     },
     "execution_count": 42,
     "metadata": {},
     "output_type": "execute_result"
    }
   ],
   "source": [
    "#Lots of ways to do this!!\n",
    "noDups = list(set(mylist))\n",
    "noDups"
   ]
  },
  {
   "cell_type": "code",
   "execution_count": 15,
   "metadata": {},
   "outputs": [
    {
     "name": "stdout",
     "output_type": "stream",
     "text": [
      "Here are all the characters in Scene 1: ['Master. ', 'Boatswain. ', 'Alonso. ', 'Antonio. ', 'Gonzalo. ', 'Sebastian. ', 'Mariners. ']\n"
     ]
    }
   ],
   "source": [
    "## here is another more programmatic way.\n",
    "names_scene1 = soup_doc.body.find_all(\"div\")[1].find_all(\"strong\")\n",
    "name_clean = []\n",
    "\n",
    "for name in names_scene1:\n",
    "    if name.string not in name_clean:\n",
    "        name_clean.append(name.string)\n",
    "        \n",
    "print(\"Here are all the characters in Scene 1:\", name_clean)"
   ]
  },
  {
   "cell_type": "markdown",
   "metadata": {},
   "source": [
    "Display every stage direction in _scene 2_"
   ]
  },
  {
   "cell_type": "code",
   "execution_count": 19,
   "metadata": {},
   "outputs": [
    {
     "name": "stdout",
     "output_type": "stream",
     "text": [
      "[Enter PROSPERO and MIRANDA]\n",
      "[Lays down his mantle]\n",
      "[Resumes his mantle]\n",
      "[MIRANDA sleeps]\n",
      "[Enter ARIEL]\n",
      "[Exit ARIEL]\n",
      "[Within]\n",
      "[Re-enter ARIEL like a water-nymph]\n",
      "[Exit]\n",
      "[Enter CALIBAN]\n",
      "[Aside]\n",
      "[Exit CALIBAN]\n",
      "[Re-enter ARIEL, invisible, playing and singing;]\n",
      "FERDINAND following]\n",
      "[Burthen [dispersedly, within] Bow-wow]\n",
      "[dispersedly, within]\n",
      "[Burthen Bow-wow]\n",
      "[ARIEL sings]\n",
      "[Burthen Ding-dong]\n",
      "[Aside]\n",
      "[Aside]\n",
      "[To FERDINAND]\n",
      "[Aside]\n",
      "[To FERDINAND]\n",
      "[Draws, and is charmed from moving]\n",
      "[Aside]\n",
      "[To FERDINAND]\n",
      "[To FERDINAND]\n",
      "[To ARIEL]\n",
      "[Exeunt]\n"
     ]
    }
   ],
   "source": [
    "scene2 = soup_doc.find_all('div')[3]\n",
    "#staged = scene2.find_all(class_=\"stagedir\")\n",
    "##Here is the better answer than my answer!!!\n",
    "staged = scene2.find_all(['p','i'])\n",
    "for direction in staged:\n",
    "    print(direction.text)"
   ]
  },
  {
   "cell_type": "markdown",
   "metadata": {},
   "source": [
    "Get the HTML containing Miranda's first speech in Scene 2"
   ]
  },
  {
   "cell_type": "code",
   "execution_count": 43,
   "metadata": {},
   "outputs": [
    {
     "data": {
      "text/plain": [
       "<li class=\"playtext\"><strong>Miranda. </strong>If by your art, my dearest father, you have\n",
       " <span class=\"playlinenum\">85</span><br>Put the wild waters in this roar, allay them.\n",
       "<br>The sky, it seems, would pour down stinking pitch,\n",
       "<br>But that the sea, mounting to the welkin's cheek,\n",
       "<br>Dashes the fire out. O, I have suffered\n",
       "<br>With those that I saw suffer: a brave vessel,\n",
       " <span class=\"playlinenum\">90</span><br>Who had, no doubt, some noble creature in her,\n",
       "<br>Dash'd all to pieces. O, the cry did knock\n",
       "<br>Against my very heart. Poor souls, they perish'd.\n",
       "<br>Had I been any god of power, I would\n",
       "<br>Have sunk the sea within the earth or ere\n",
       " <span class=\"playlinenum\">95</span><br>It should the good ship so have swallow'd and\n",
       "<br>The fraughting souls within her.\n",
       "</br></br></br></br></br></br></br></br></br></br></br></br></li>"
      ]
     },
     "execution_count": 43,
     "metadata": {},
     "output_type": "execute_result"
    }
   ],
   "source": [
    "scene2 = soup_doc.find_all('div')[3]\n",
    "scene2.li"
   ]
  },
  {
   "cell_type": "markdown",
   "metadata": {},
   "source": [
    "Now display those **same lines without the speaker's name, and no HTML.**\n",
    "\n",
    "This is a bit tricky, try to get as close to this result as you can. (Note: I didn't get the numbers out of there, but it's fine if you want to get them out too):\n",
    "\n",
    "`If by your art, my dearest father, you have\n",
    " \n",
    "85\n",
    "Put the wild waters in this roar, allay them.\n",
    "\n",
    "The sky, it seems, would pour down stinking pitch,\n",
    "\n",
    "But that the sea, mounting to the welkin's cheek,\n",
    "\n",
    "Dashes the fire out. O, I have suffered\n",
    "\n",
    "With those that I saw suffer: a brave vessel,\n",
    " \n",
    "90\n",
    "Who had, no doubt, some noble creature in her,\n",
    "\n",
    "Dash'd all to pieces. O, the cry did knock\n",
    "\n",
    "Against my very heart. Poor souls, they perish'd.\n",
    "\n",
    "Had I been any god of power, I would\n",
    "\n",
    "Have sunk the sea within the earth or ere\n",
    " \n",
    "95\n",
    "It should the good ship so have swallow'd and\n",
    "\n",
    "The fraughting souls within her.`"
   ]
  },
  {
   "cell_type": "code",
   "execution_count": 56,
   "metadata": {},
   "outputs": [
    {
     "name": "stdout",
     "output_type": "stream",
     "text": [
      "If by your art, my dearest father, you have\n",
      " \n",
      "85\n",
      "Put the wild waters in this roar, allay them.\n",
      "\n",
      "The sky, it seems, would pour down stinking pitch,\n",
      "\n",
      "But that the sea, mounting to the welkin's cheek,\n",
      "\n",
      "Dashes the fire out. O, I have suffered\n",
      "\n",
      "With those that I saw suffer: a brave vessel,\n",
      " \n",
      "90\n",
      "Who had, no doubt, some noble creature in her,\n",
      "\n",
      "Dash'd all to pieces. O, the cry did knock\n",
      "\n",
      "Against my very heart. Poor souls, they perish'd.\n",
      "\n",
      "Had I been any god of power, I would\n",
      "\n",
      "Have sunk the sea within the earth or ere\n",
      " \n",
      "95\n",
      "It should the good ship so have swallow'd and\n",
      "\n",
      "The fraughting souls within her.\n",
      "\n"
     ]
    }
   ],
   "source": [
    "##Simple way to pull out the strings,\n",
    "#youthen start the loop at the [1] element to get rid of 'Miranda'\n",
    "mspeech = scene2.ul.li\n",
    "the_speech = mspeech.find_all(string=True)\n",
    "for line in the_speech[1:]:\n",
    "    print(line)"
   ]
  },
  {
   "cell_type": "code",
   "execution_count": 50,
   "metadata": {},
   "outputs": [
    {
     "name": "stdout",
     "output_type": "stream",
     "text": [
      "If by your art, my dearest father, you have\n",
      " \n"
     ]
    }
   ],
   "source": [
    "#This works perfectly for Aseem, not for me\n",
    "#If beautiful soup worked perfectly this should work!!!\n",
    "miranda = soup_doc.find_all('div')[3].li\n",
    "for line in miranda.strong.find_next_siblings(string=True):\n",
    "    print(line)"
   ]
  },
  {
   "cell_type": "code",
   "execution_count": 51,
   "metadata": {},
   "outputs": [
    {
     "data": {
      "text/plain": [
       "['If by your art, my dearest father, you have\\n ',\n",
       " <br>Put the wild waters in this roar, allay them.\n",
       " <br>The sky, it seems, would pour down stinking pitch,\n",
       " <br>But that the sea, mounting to the welkin's cheek,\n",
       " <br>Dashes the fire out. O, I have suffered\n",
       " <br>With those that I saw suffer: a brave vessel,\n",
       "  <span class=\"playlinenum\">90</span><br>Who had, no doubt, some noble creature in her,\n",
       " <br>Dash'd all to pieces. O, the cry did knock\n",
       " <br>Against my very heart. Poor souls, they perish'd.\n",
       " <br>Had I been any god of power, I would\n",
       " <br>Have sunk the sea within the earth or ere\n",
       "  <span class=\"playlinenum\">95</span><br>It should the good ship so have swallow'd and\n",
       " <br>The fraughting souls within her.\n",
       " </br></br></br></br></br></br></br></br></br></br></br></br>]"
      ]
     },
     "execution_count": 51,
     "metadata": {},
     "output_type": "execute_result"
    }
   ],
   "source": [
    "##This gets out the first line and the rest separately.\n",
    "##For installations of beautiful soup that do not work properly\n",
    "first_line = scene2.ul.strong.next_sibling\n",
    "the_rest = scene2.ul.span.find_next_siblings()\n",
    "##Insert the first line into the list\n",
    "the_rest.insert(0,first_line)\n",
    "the_rest\n"
   ]
  },
  {
   "cell_type": "code",
   "execution_count": 52,
   "metadata": {},
   "outputs": [
    {
     "data": {
      "text/plain": [
       "\"If by your art, my dearest father, you have\\n Put the wild waters in this roar, allay them.\\nThe sky, it seems, would pour down stinking pitch,\\nBut that the sea, mounting to the welkin's cheek,\\nDashes the fire out. O, I have suffered\\nWith those that I saw suffer: a brave vessel,\\n 90Who had, no doubt, some noble creature in her,\\nDash'd all to pieces. O, the cry did knock\\nAgainst my very heart. Poor souls, they perish'd.\\nHad I been any god of power, I would\\nHave sunk the sea within the earth or ere\\n 95It should the good ship so have swallow'd and\\nThe fraughting souls within her.\\n\""
      ]
     },
     "execution_count": 52,
     "metadata": {},
     "output_type": "execute_result"
    }
   ],
   "source": [
    "#This also gets out the first line and the rest separately\n",
    "#But at strings.\n",
    "myspeech = scene2.li\n",
    "first_line = myspeech.span.previous\n",
    "first_line + myspeech.find('br').get_text()\n"
   ]
  },
  {
   "cell_type": "code",
   "execution_count": 59,
   "metadata": {},
   "outputs": [
    {
     "name": "stdout",
     "output_type": "stream",
     "text": [
      "If by your art, my dearest father, you have\n",
      " \n",
      "Put the wild waters in this roar, allay them.\n",
      "\n",
      "The sky, it seems, would pour down stinking pitch,\n",
      "\n",
      "But that the sea, mounting to the welkin's cheek,\n",
      "\n",
      "Dashes the fire out. O, I have suffered\n",
      "\n",
      "With those that I saw suffer: a brave vessel,\n",
      " \n",
      "Who had, no doubt, some noble creature in her,\n",
      "\n",
      "Dash'd all to pieces. O, the cry did knock\n",
      "\n",
      "Against my very heart. Poor souls, they perish'd.\n",
      "\n",
      "Had I been any god of power, I would\n",
      "\n",
      "Have sunk the sea within the earth or ere\n",
      " \n",
      "It should the good ship so have swallow'd and\n",
      "\n",
      "The fraughting souls within her.\n",
      "\n"
     ]
    }
   ],
   "source": [
    "#This uses <br> Tags\n",
    "#But still has to get out the first line separately.\n",
    "miranda = scene2.find_all(class_ = 'playtext')[0]\n",
    "print(miranda.find('span').previous)\n",
    "for line in miranda.find_all('br'):\n",
    "        print(line.next)"
   ]
  },
  {
   "cell_type": "code",
   "execution_count": 54,
   "metadata": {},
   "outputs": [
    {
     "data": {
      "text/plain": [
       "['If by your art, my dearest father, you have\\n ',\n",
       " <span class=\"playlinenum\">85</span>,\n",
       " <br>Put the wild waters in this roar, allay them.\n",
       " <br>The sky, it seems, would pour down stinking pitch,\n",
       " <br>But that the sea, mounting to the welkin's cheek,\n",
       " <br>Dashes the fire out. O, I have suffered\n",
       " <br>With those that I saw suffer: a brave vessel,\n",
       "  <span class=\"playlinenum\">90</span><br>Who had, no doubt, some noble creature in her,\n",
       " <br>Dash'd all to pieces. O, the cry did knock\n",
       " <br>Against my very heart. Poor souls, they perish'd.\n",
       " <br>Had I been any god of power, I would\n",
       " <br>Have sunk the sea within the earth or ere\n",
       "  <span class=\"playlinenum\">95</span><br>It should the good ship so have swallow'd and\n",
       " <br>The fraughting souls within her.\n",
       " </br></br></br></br></br></br></br></br></br></br></br></br>,\n",
       " 'If by your art, my dearest father, you have\\n ',\n",
       " <span class=\"playlinenum\">85</span>,\n",
       " <br>Put the wild waters in this roar, allay them.\n",
       " <br>The sky, it seems, would pour down stinking pitch,\n",
       " <br>But that the sea, mounting to the welkin's cheek,\n",
       " <br>Dashes the fire out. O, I have suffered\n",
       " <br>With those that I saw suffer: a brave vessel,\n",
       "  <span class=\"playlinenum\">90</span><br>Who had, no doubt, some noble creature in her,\n",
       " <br>Dash'd all to pieces. O, the cry did knock\n",
       " <br>Against my very heart. Poor souls, they perish'd.\n",
       " <br>Had I been any god of power, I would\n",
       " <br>Have sunk the sea within the earth or ere\n",
       "  <span class=\"playlinenum\">95</span><br>It should the good ship so have swallow'd and\n",
       " <br>The fraughting souls within her.\n",
       " </br></br></br></br></br></br></br></br></br></br></br></br>]"
      ]
     },
     "execution_count": 54,
     "metadata": {},
     "output_type": "execute_result"
    }
   ],
   "source": [
    "#This uses beautiful soup's generator option\n",
    "#And captures the results in a list.\n",
    "myspeech = []\n",
    "for element in scene2.li.strong.next_siblings:\n",
    "    myspeech.append(element)\n",
    "myspeech\n",
    "\n",
    "#You can also transform the generator into a list\n",
    "#myspeech = list(scene2.li.strong.next_siblings)\n"
   ]
  },
  {
   "cell_type": "code",
   "execution_count": 40,
   "metadata": {},
   "outputs": [
    {
     "data": {
      "text/plain": [
       "['Miranda.',\n",
       " 'If by your art, my dearest father, you have',\n",
       " '85',\n",
       " 'Put the wild waters in this roar, allay them.',\n",
       " 'The sky, it seems, would pour down stinking pitch,',\n",
       " \"But that the sea, mounting to the welkin's cheek,\",\n",
       " 'Dashes the fire out. O, I have suffered',\n",
       " 'With those that I saw suffer: a brave vessel,',\n",
       " '90',\n",
       " 'Who had, no doubt, some noble creature in her,',\n",
       " \"Dash'd all to pieces. O, the cry did knock\",\n",
       " \"Against my very heart. Poor souls, they perish'd.\",\n",
       " 'Had I been any god of power, I would',\n",
       " 'Have sunk the sea within the earth or ere',\n",
       " '95',\n",
       " \"It should the good ship so have swallow'd and\",\n",
       " 'The fraughting souls within her.']"
      ]
     },
     "execution_count": 40,
     "metadata": {},
     "output_type": "execute_result"
    }
   ],
   "source": [
    "#This strips to text with a delimiter\n",
    "#And then uses split to turn it into a list.\n",
    "mspeech = scene2.li.get_text('|||',strip=True)\n",
    "mspeech = mspeech.split('|||')\n",
    "mspeech\n",
    "\n"
   ]
  },
  {
   "cell_type": "code",
   "execution_count": 57,
   "metadata": {},
   "outputs": [
    {
     "name": "stdout",
     "output_type": "stream",
     "text": [
      "If by your art, my dearest father, you have\n",
      " \n",
      "85\n",
      "Put the wild waters in this roar, allay them.\n",
      "\n",
      "The sky, it seems, would pour down stinking pitch,\n",
      "\n",
      "But that the sea, mounting to the welkin's cheek,\n",
      "\n",
      "Dashes the fire out. O, I have suffered\n",
      "\n",
      "With those that I saw suffer: a brave vessel,\n",
      " \n",
      "90\n",
      "Who had, no doubt, some noble creature in her,\n",
      "\n",
      "Dash'd all to pieces. O, the cry did knock\n",
      "\n",
      "Against my very heart. Poor souls, they perish'd.\n",
      "\n",
      "Had I been any god of power, I would\n",
      "\n",
      "Have sunk the sea within the earth or ere\n",
      " \n",
      "95\n",
      "It should the good ship so have swallow'd and\n",
      "\n",
      "The fraughting souls within her.\n",
      "\n"
     ]
    }
   ],
   "source": [
    "#This just deletes the first element in the list\n",
    "mspeech = scene2.li.find_all(string=True)\n",
    "del mspeech[0]\n",
    "for line in mspeech:\n",
    "    print(line)"
   ]
  },
  {
   "cell_type": "markdown",
   "metadata": {},
   "source": [
    "Get the HTML containing the speech after Miranda's"
   ]
  },
  {
   "cell_type": "code",
   "execution_count": null,
   "metadata": {
    "collapsed": true
   },
   "outputs": [],
   "source": []
  },
  {
   "cell_type": "markdown",
   "metadata": {
    "collapsed": true
   },
   "source": [
    "All done!"
   ]
  }
 ],
 "metadata": {
  "kernelspec": {
   "display_name": "Python 3",
   "language": "python",
   "name": "python3"
  },
  "language_info": {
   "codemirror_mode": {
    "name": "ipython",
    "version": 3
   },
   "file_extension": ".py",
   "mimetype": "text/x-python",
   "name": "python",
   "nbconvert_exporter": "python",
   "pygments_lexer": "ipython3",
   "version": "3.6.5"
  }
 },
 "nbformat": 4,
 "nbformat_minor": 2
}
